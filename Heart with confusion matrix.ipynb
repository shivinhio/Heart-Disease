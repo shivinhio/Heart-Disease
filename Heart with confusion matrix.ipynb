{
 "cells": [
  {
   "cell_type": "code",
   "execution_count": 59,
   "metadata": {},
   "outputs": [],
   "source": [
    "import pandas as pd\n",
    "from pandas import Series,DataFrame\n",
    "import numpy as np"
   ]
  },
  {
   "cell_type": "code",
   "execution_count": 60,
   "metadata": {},
   "outputs": [],
   "source": [
    "import matplotlib.pyplot as plt\n",
    "import seaborn as sns\n",
    "sns.set_style('whitegrid')\n",
    "%matplotlib inline"
   ]
  },
  {
   "cell_type": "code",
   "execution_count": 61,
   "metadata": {},
   "outputs": [],
   "source": [
    "df=pd.read_csv(r'C:\\Users\\dear\\Desktop\\heart.csv')"
   ]
  },
  {
   "cell_type": "code",
   "execution_count": 62,
   "metadata": {},
   "outputs": [
    {
     "data": {
      "text/html": [
       "<div>\n",
       "<style scoped>\n",
       "    .dataframe tbody tr th:only-of-type {\n",
       "        vertical-align: middle;\n",
       "    }\n",
       "\n",
       "    .dataframe tbody tr th {\n",
       "        vertical-align: top;\n",
       "    }\n",
       "\n",
       "    .dataframe thead th {\n",
       "        text-align: right;\n",
       "    }\n",
       "</style>\n",
       "<table border=\"1\" class=\"dataframe\">\n",
       "  <thead>\n",
       "    <tr style=\"text-align: right;\">\n",
       "      <th></th>\n",
       "      <th>age</th>\n",
       "      <th>sex</th>\n",
       "      <th>cp</th>\n",
       "      <th>trestbps</th>\n",
       "      <th>chol</th>\n",
       "      <th>fbs</th>\n",
       "      <th>restecg</th>\n",
       "      <th>thalach</th>\n",
       "      <th>exang</th>\n",
       "      <th>oldpeak</th>\n",
       "      <th>slope</th>\n",
       "      <th>ca</th>\n",
       "      <th>thal</th>\n",
       "      <th>target</th>\n",
       "    </tr>\n",
       "  </thead>\n",
       "  <tbody>\n",
       "    <tr>\n",
       "      <th>0</th>\n",
       "      <td>63</td>\n",
       "      <td>1</td>\n",
       "      <td>3</td>\n",
       "      <td>145</td>\n",
       "      <td>233</td>\n",
       "      <td>1</td>\n",
       "      <td>0</td>\n",
       "      <td>150</td>\n",
       "      <td>0</td>\n",
       "      <td>2.3</td>\n",
       "      <td>0</td>\n",
       "      <td>0</td>\n",
       "      <td>1</td>\n",
       "      <td>1</td>\n",
       "    </tr>\n",
       "    <tr>\n",
       "      <th>1</th>\n",
       "      <td>37</td>\n",
       "      <td>1</td>\n",
       "      <td>2</td>\n",
       "      <td>130</td>\n",
       "      <td>250</td>\n",
       "      <td>0</td>\n",
       "      <td>1</td>\n",
       "      <td>187</td>\n",
       "      <td>0</td>\n",
       "      <td>3.5</td>\n",
       "      <td>0</td>\n",
       "      <td>0</td>\n",
       "      <td>2</td>\n",
       "      <td>1</td>\n",
       "    </tr>\n",
       "    <tr>\n",
       "      <th>2</th>\n",
       "      <td>41</td>\n",
       "      <td>0</td>\n",
       "      <td>1</td>\n",
       "      <td>130</td>\n",
       "      <td>204</td>\n",
       "      <td>0</td>\n",
       "      <td>0</td>\n",
       "      <td>172</td>\n",
       "      <td>0</td>\n",
       "      <td>1.4</td>\n",
       "      <td>2</td>\n",
       "      <td>0</td>\n",
       "      <td>2</td>\n",
       "      <td>1</td>\n",
       "    </tr>\n",
       "    <tr>\n",
       "      <th>3</th>\n",
       "      <td>56</td>\n",
       "      <td>1</td>\n",
       "      <td>1</td>\n",
       "      <td>120</td>\n",
       "      <td>236</td>\n",
       "      <td>0</td>\n",
       "      <td>1</td>\n",
       "      <td>178</td>\n",
       "      <td>0</td>\n",
       "      <td>0.8</td>\n",
       "      <td>2</td>\n",
       "      <td>0</td>\n",
       "      <td>2</td>\n",
       "      <td>1</td>\n",
       "    </tr>\n",
       "    <tr>\n",
       "      <th>4</th>\n",
       "      <td>57</td>\n",
       "      <td>0</td>\n",
       "      <td>0</td>\n",
       "      <td>120</td>\n",
       "      <td>354</td>\n",
       "      <td>0</td>\n",
       "      <td>1</td>\n",
       "      <td>163</td>\n",
       "      <td>1</td>\n",
       "      <td>0.6</td>\n",
       "      <td>2</td>\n",
       "      <td>0</td>\n",
       "      <td>2</td>\n",
       "      <td>1</td>\n",
       "    </tr>\n",
       "  </tbody>\n",
       "</table>\n",
       "</div>"
      ],
      "text/plain": [
       "   age  sex  cp  trestbps  chol  fbs  restecg  thalach  exang  oldpeak  slope  \\\n",
       "0   63    1   3       145   233    1        0      150      0      2.3      0   \n",
       "1   37    1   2       130   250    0        1      187      0      3.5      0   \n",
       "2   41    0   1       130   204    0        0      172      0      1.4      2   \n",
       "3   56    1   1       120   236    0        1      178      0      0.8      2   \n",
       "4   57    0   0       120   354    0        1      163      1      0.6      2   \n",
       "\n",
       "   ca  thal  target  \n",
       "0   0     1       1  \n",
       "1   0     2       1  \n",
       "2   0     2       1  \n",
       "3   0     2       1  \n",
       "4   0     2       1  "
      ]
     },
     "execution_count": 62,
     "metadata": {},
     "output_type": "execute_result"
    }
   ],
   "source": [
    "df.head()"
   ]
  },
  {
   "cell_type": "code",
   "execution_count": 63,
   "metadata": {},
   "outputs": [
    {
     "data": {
      "text/html": [
       "<div>\n",
       "<style scoped>\n",
       "    .dataframe tbody tr th:only-of-type {\n",
       "        vertical-align: middle;\n",
       "    }\n",
       "\n",
       "    .dataframe tbody tr th {\n",
       "        vertical-align: top;\n",
       "    }\n",
       "\n",
       "    .dataframe thead th {\n",
       "        text-align: right;\n",
       "    }\n",
       "</style>\n",
       "<table border=\"1\" class=\"dataframe\">\n",
       "  <thead>\n",
       "    <tr style=\"text-align: right;\">\n",
       "      <th></th>\n",
       "      <th>age</th>\n",
       "      <th>sex</th>\n",
       "      <th>cp</th>\n",
       "      <th>trestbps</th>\n",
       "      <th>chol</th>\n",
       "      <th>fbs</th>\n",
       "      <th>restecg</th>\n",
       "      <th>thalach</th>\n",
       "      <th>exang</th>\n",
       "      <th>oldpeak</th>\n",
       "      <th>slope</th>\n",
       "      <th>ca</th>\n",
       "      <th>thal</th>\n",
       "      <th>target</th>\n",
       "    </tr>\n",
       "  </thead>\n",
       "  <tbody>\n",
       "    <tr>\n",
       "      <th>count</th>\n",
       "      <td>303.000000</td>\n",
       "      <td>303.000000</td>\n",
       "      <td>303.000000</td>\n",
       "      <td>303.000000</td>\n",
       "      <td>303.000000</td>\n",
       "      <td>303.000000</td>\n",
       "      <td>303.000000</td>\n",
       "      <td>303.000000</td>\n",
       "      <td>303.000000</td>\n",
       "      <td>303.000000</td>\n",
       "      <td>303.000000</td>\n",
       "      <td>303.000000</td>\n",
       "      <td>303.000000</td>\n",
       "      <td>303.000000</td>\n",
       "    </tr>\n",
       "    <tr>\n",
       "      <th>mean</th>\n",
       "      <td>54.366337</td>\n",
       "      <td>0.683168</td>\n",
       "      <td>0.966997</td>\n",
       "      <td>131.623762</td>\n",
       "      <td>246.264026</td>\n",
       "      <td>0.148515</td>\n",
       "      <td>0.528053</td>\n",
       "      <td>149.646865</td>\n",
       "      <td>0.326733</td>\n",
       "      <td>1.039604</td>\n",
       "      <td>1.399340</td>\n",
       "      <td>0.729373</td>\n",
       "      <td>2.313531</td>\n",
       "      <td>0.544554</td>\n",
       "    </tr>\n",
       "    <tr>\n",
       "      <th>std</th>\n",
       "      <td>9.082101</td>\n",
       "      <td>0.466011</td>\n",
       "      <td>1.032052</td>\n",
       "      <td>17.538143</td>\n",
       "      <td>51.830751</td>\n",
       "      <td>0.356198</td>\n",
       "      <td>0.525860</td>\n",
       "      <td>22.905161</td>\n",
       "      <td>0.469794</td>\n",
       "      <td>1.161075</td>\n",
       "      <td>0.616226</td>\n",
       "      <td>1.022606</td>\n",
       "      <td>0.612277</td>\n",
       "      <td>0.498835</td>\n",
       "    </tr>\n",
       "    <tr>\n",
       "      <th>min</th>\n",
       "      <td>29.000000</td>\n",
       "      <td>0.000000</td>\n",
       "      <td>0.000000</td>\n",
       "      <td>94.000000</td>\n",
       "      <td>126.000000</td>\n",
       "      <td>0.000000</td>\n",
       "      <td>0.000000</td>\n",
       "      <td>71.000000</td>\n",
       "      <td>0.000000</td>\n",
       "      <td>0.000000</td>\n",
       "      <td>0.000000</td>\n",
       "      <td>0.000000</td>\n",
       "      <td>0.000000</td>\n",
       "      <td>0.000000</td>\n",
       "    </tr>\n",
       "    <tr>\n",
       "      <th>25%</th>\n",
       "      <td>47.500000</td>\n",
       "      <td>0.000000</td>\n",
       "      <td>0.000000</td>\n",
       "      <td>120.000000</td>\n",
       "      <td>211.000000</td>\n",
       "      <td>0.000000</td>\n",
       "      <td>0.000000</td>\n",
       "      <td>133.500000</td>\n",
       "      <td>0.000000</td>\n",
       "      <td>0.000000</td>\n",
       "      <td>1.000000</td>\n",
       "      <td>0.000000</td>\n",
       "      <td>2.000000</td>\n",
       "      <td>0.000000</td>\n",
       "    </tr>\n",
       "    <tr>\n",
       "      <th>50%</th>\n",
       "      <td>55.000000</td>\n",
       "      <td>1.000000</td>\n",
       "      <td>1.000000</td>\n",
       "      <td>130.000000</td>\n",
       "      <td>240.000000</td>\n",
       "      <td>0.000000</td>\n",
       "      <td>1.000000</td>\n",
       "      <td>153.000000</td>\n",
       "      <td>0.000000</td>\n",
       "      <td>0.800000</td>\n",
       "      <td>1.000000</td>\n",
       "      <td>0.000000</td>\n",
       "      <td>2.000000</td>\n",
       "      <td>1.000000</td>\n",
       "    </tr>\n",
       "    <tr>\n",
       "      <th>75%</th>\n",
       "      <td>61.000000</td>\n",
       "      <td>1.000000</td>\n",
       "      <td>2.000000</td>\n",
       "      <td>140.000000</td>\n",
       "      <td>274.500000</td>\n",
       "      <td>0.000000</td>\n",
       "      <td>1.000000</td>\n",
       "      <td>166.000000</td>\n",
       "      <td>1.000000</td>\n",
       "      <td>1.600000</td>\n",
       "      <td>2.000000</td>\n",
       "      <td>1.000000</td>\n",
       "      <td>3.000000</td>\n",
       "      <td>1.000000</td>\n",
       "    </tr>\n",
       "    <tr>\n",
       "      <th>max</th>\n",
       "      <td>77.000000</td>\n",
       "      <td>1.000000</td>\n",
       "      <td>3.000000</td>\n",
       "      <td>200.000000</td>\n",
       "      <td>564.000000</td>\n",
       "      <td>1.000000</td>\n",
       "      <td>2.000000</td>\n",
       "      <td>202.000000</td>\n",
       "      <td>1.000000</td>\n",
       "      <td>6.200000</td>\n",
       "      <td>2.000000</td>\n",
       "      <td>4.000000</td>\n",
       "      <td>3.000000</td>\n",
       "      <td>1.000000</td>\n",
       "    </tr>\n",
       "  </tbody>\n",
       "</table>\n",
       "</div>"
      ],
      "text/plain": [
       "              age         sex          cp    trestbps        chol         fbs  \\\n",
       "count  303.000000  303.000000  303.000000  303.000000  303.000000  303.000000   \n",
       "mean    54.366337    0.683168    0.966997  131.623762  246.264026    0.148515   \n",
       "std      9.082101    0.466011    1.032052   17.538143   51.830751    0.356198   \n",
       "min     29.000000    0.000000    0.000000   94.000000  126.000000    0.000000   \n",
       "25%     47.500000    0.000000    0.000000  120.000000  211.000000    0.000000   \n",
       "50%     55.000000    1.000000    1.000000  130.000000  240.000000    0.000000   \n",
       "75%     61.000000    1.000000    2.000000  140.000000  274.500000    0.000000   \n",
       "max     77.000000    1.000000    3.000000  200.000000  564.000000    1.000000   \n",
       "\n",
       "          restecg     thalach       exang     oldpeak       slope          ca  \\\n",
       "count  303.000000  303.000000  303.000000  303.000000  303.000000  303.000000   \n",
       "mean     0.528053  149.646865    0.326733    1.039604    1.399340    0.729373   \n",
       "std      0.525860   22.905161    0.469794    1.161075    0.616226    1.022606   \n",
       "min      0.000000   71.000000    0.000000    0.000000    0.000000    0.000000   \n",
       "25%      0.000000  133.500000    0.000000    0.000000    1.000000    0.000000   \n",
       "50%      1.000000  153.000000    0.000000    0.800000    1.000000    0.000000   \n",
       "75%      1.000000  166.000000    1.000000    1.600000    2.000000    1.000000   \n",
       "max      2.000000  202.000000    1.000000    6.200000    2.000000    4.000000   \n",
       "\n",
       "             thal      target  \n",
       "count  303.000000  303.000000  \n",
       "mean     2.313531    0.544554  \n",
       "std      0.612277    0.498835  \n",
       "min      0.000000    0.000000  \n",
       "25%      2.000000    0.000000  \n",
       "50%      2.000000    1.000000  \n",
       "75%      3.000000    1.000000  \n",
       "max      3.000000    1.000000  "
      ]
     },
     "execution_count": 63,
     "metadata": {},
     "output_type": "execute_result"
    }
   ],
   "source": [
    "df.describe()"
   ]
  },
  {
   "cell_type": "code",
   "execution_count": 64,
   "metadata": {},
   "outputs": [
    {
     "name": "stdout",
     "output_type": "stream",
     "text": [
      "<class 'pandas.core.frame.DataFrame'>\n",
      "RangeIndex: 303 entries, 0 to 302\n",
      "Data columns (total 14 columns):\n",
      "age         303 non-null int64\n",
      "sex         303 non-null int64\n",
      "cp          303 non-null int64\n",
      "trestbps    303 non-null int64\n",
      "chol        303 non-null int64\n",
      "fbs         303 non-null int64\n",
      "restecg     303 non-null int64\n",
      "thalach     303 non-null int64\n",
      "exang       303 non-null int64\n",
      "oldpeak     303 non-null float64\n",
      "slope       303 non-null int64\n",
      "ca          303 non-null int64\n",
      "thal        303 non-null int64\n",
      "target      303 non-null int64\n",
      "dtypes: float64(1), int64(13)\n",
      "memory usage: 33.2 KB\n"
     ]
    }
   ],
   "source": [
    "df.info()"
   ]
  },
  {
   "cell_type": "code",
   "execution_count": 65,
   "metadata": {},
   "outputs": [
    {
     "data": {
      "text/plain": [
       "<matplotlib.axes._subplots.AxesSubplot at 0x11c0e090>"
      ]
     },
     "execution_count": 65,
     "metadata": {},
     "output_type": "execute_result"
    },
    {
     "data": {
      "image/png": "[encoded data removed]",
      "text/plain": [
       "<Figure size 432x288 with 1 Axes>"
      ]
     },
     "metadata": {
      "needs_background": "light"
     },
     "output_type": "display_data"
    }
   ],
   "source": [
    "sns.countplot(x='target',data=df)"
   ]
  },
  {
   "cell_type": "code",
   "execution_count": 66,
   "metadata": {},
   "outputs": [
    {
     "data": {
      "text/plain": [
       "<matplotlib.axes._subplots.AxesSubplot at 0x11bfa450>"
      ]
     },
     "execution_count": 66,
     "metadata": {},
     "output_type": "execute_result"
    },
    {
     "data": {
      "image/png": "[encoded data removed]",
      "text/plain": [
       "<Figure size 432x288 with 1 Axes>"
      ]
     },
     "metadata": {
      "needs_background": "light"
     },
     "output_type": "display_data"
    }
   ],
   "source": [
    "sns.countplot(x='sex',data=df)"
   ]
  },
  {
   "cell_type": "code",
   "execution_count": 67,
   "metadata": {},
   "outputs": [
    {
     "data": {
      "text/plain": [
       "<matplotlib.axes._subplots.AxesSubplot at 0x11cafb70>"
      ]
     },
     "execution_count": 67,
     "metadata": {},
     "output_type": "execute_result"
    },
    {
     "data": {
      "image/png": "[encoded data removed]",
      "text/plain": [
       "<Figure size 432x288 with 1 Axes>"
      ]
     },
     "metadata": {
      "needs_background": "light"
     },
     "output_type": "display_data"
    }
   ],
   "source": [
    "sns.countplot(x='cp',data=df)"
   ]
  },
  {
   "cell_type": "code",
   "execution_count": 68,
   "metadata": {},
   "outputs": [
    {
     "data": {
      "text/plain": [
       "<matplotlib.axes._subplots.AxesSubplot at 0x11cf5070>"
      ]
     },
     "execution_count": 68,
     "metadata": {},
     "output_type": "execute_result"
    },
    {
     "data": {
      "image/png": "[encoded data removed]",
      "text/plain": [
       "<Figure size 432x288 with 1 Axes>"
      ]
     },
     "metadata": {
      "needs_background": "light"
     },
     "output_type": "display_data"
    }
   ],
   "source": [
    "sns.countplot(x='fbs',data=df)"
   ]
  },
  {
   "cell_type": "code",
   "execution_count": 69,
   "metadata": {},
   "outputs": [
    {
     "data": {
      "text/plain": [
       "<matplotlib.axes._subplots.AxesSubplot at 0x11d1cb90>"
      ]
     },
     "execution_count": 69,
     "metadata": {},
     "output_type": "execute_result"
    },
    {
     "data": {
      "image/png": "[encoded data removed]",
      "text/plain": [
       "<Figure size 432x288 with 1 Axes>"
      ]
     },
     "metadata": {
      "needs_background": "light"
     },
     "output_type": "display_data"
    }
   ],
   "source": [
    "sns.countplot(x='restecg',data=df)"
   ]
  },
  {
   "cell_type": "code",
   "execution_count": 70,
   "metadata": {},
   "outputs": [
    {
     "data": {
      "text/plain": [
       "<matplotlib.axes._subplots.AxesSubplot at 0x11edfdb0>"
      ]
     },
     "execution_count": 70,
     "metadata": {},
     "output_type": "execute_result"
    },
    {
     "data": {
      "image/png": "[encoded data removed]",
      "text/plain": [
       "<Figure size 432x288 with 1 Axes>"
      ]
     },
     "metadata": {
      "needs_background": "light"
     },
     "output_type": "display_data"
    }
   ],
   "source": [
    "sns.countplot(x='exang',data=df)"
   ]
  },
  {
   "cell_type": "code",
   "execution_count": 71,
   "metadata": {},
   "outputs": [
    {
     "data": {
      "text/plain": [
       "<matplotlib.axes._subplots.AxesSubplot at 0x11f84430>"
      ]
     },
     "execution_count": 71,
     "metadata": {},
     "output_type": "execute_result"
    },
    {
     "data": {
      "image/png": "[encoded data removed]",
      "text/plain": [
       "<Figure size 432x288 with 1 Axes>"
      ]
     },
     "metadata": {
      "needs_background": "light"
     },
     "output_type": "display_data"
    }
   ],
   "source": [
    "sns.countplot(x='slope',data=df)"
   ]
  },
  {
   "cell_type": "code",
   "execution_count": 72,
   "metadata": {},
   "outputs": [
    {
     "data": {
      "text/plain": [
       "<matplotlib.axes._subplots.AxesSubplot at 0x11edf5d0>"
      ]
     },
     "execution_count": 72,
     "metadata": {},
     "output_type": "execute_result"
    },
    {
     "data": {
      "image/png": "[encoded data removed]",
      "text/plain": [
       "<Figure size 432x288 with 1 Axes>"
      ]
     },
     "metadata": {
      "needs_background": "light"
     },
     "output_type": "display_data"
    }
   ],
   "source": [
    "sns.countplot(x='ca',data=df)"
   ]
  },
  {
   "cell_type": "code",
   "execution_count": 73,
   "metadata": {},
   "outputs": [
    {
     "data": {
      "text/plain": [
       "<matplotlib.axes._subplots.AxesSubplot at 0xe70b7f0>"
      ]
     },
     "execution_count": 73,
     "metadata": {},
     "output_type": "execute_result"
    },
    {
     "data": {
      "image/png": "[encoded data removed]",
      "text/plain": [
       "<Figure size 432x288 with 1 Axes>"
      ]
     },
     "metadata": {
      "needs_background": "light"
     },
     "output_type": "display_data"
    }
   ],
   "source": [
    "sns.countplot(x='thal',data=df)"
   ]
  },
  {
   "cell_type": "code",
   "execution_count": 74,
   "metadata": {},
   "outputs": [
    {
     "data": {
      "text/plain": [
       "<matplotlib.axes._subplots.AxesSubplot at 0x120ffed0>"
      ]
     },
     "execution_count": 74,
     "metadata": {},
     "output_type": "execute_result"
    },
    {
     "data": {
      "image/png": "[encoded data removed]",
      "text/plain": [
       "<Figure size 432x288 with 1 Axes>"
      ]
     },
     "metadata": {
      "needs_background": "light"
     },
     "output_type": "display_data"
    }
   ],
   "source": [
    "df['age'].hist(bins=40)"
   ]
  },
  {
   "cell_type": "code",
   "execution_count": 75,
   "metadata": {},
   "outputs": [
    {
     "data": {
      "text/plain": [
       "<matplotlib.axes._subplots.AxesSubplot at 0x1212d5b0>"
      ]
     },
     "execution_count": 75,
     "metadata": {},
     "output_type": "execute_result"
    },
    {
     "data": {
      "image/png": "[encoded data removed]",
      "text/plain": [
       "<Figure size 432x288 with 1 Axes>"
      ]
     },
     "metadata": {
      "needs_background": "light"
     },
     "output_type": "display_data"
    }
   ],
   "source": [
    "df['trestbps'].hist(bins=40)"
   ]
  },
  {
   "cell_type": "code",
   "execution_count": 76,
   "metadata": {},
   "outputs": [
    {
     "data": {
      "text/plain": [
       "<matplotlib.axes._subplots.AxesSubplot at 0x1254c750>"
      ]
     },
     "execution_count": 76,
     "metadata": {},
     "output_type": "execute_result"
    },
    {
     "data": {
      "image/png": "[encoded data removed]",
      "text/plain": [
       "<Figure size 432x288 with 1 Axes>"
      ]
     },
     "metadata": {
      "needs_background": "light"
     },
     "output_type": "display_data"
    }
   ],
   "source": [
    "df['chol'].hist(bins=40)"
   ]
  },
  {
   "cell_type": "code",
   "execution_count": 77,
   "metadata": {},
   "outputs": [
    {
     "data": {
      "text/plain": [
       "<matplotlib.axes._subplots.AxesSubplot at 0x126c9bd0>"
      ]
     },
     "execution_count": 77,
     "metadata": {},
     "output_type": "execute_result"
    },
    {
     "data": {
      "image/png": "[encoded data removed]",
      "text/plain": [
       "<Figure size 432x288 with 1 Axes>"
      ]
     },
     "metadata": {
      "needs_background": "light"
     },
     "output_type": "display_data"
    }
   ],
   "source": [
    "df['thalach'].hist(bins=40)"
   ]
  },
  {
   "cell_type": "code",
   "execution_count": 78,
   "metadata": {},
   "outputs": [
    {
     "data": {
      "text/plain": [
       "<matplotlib.axes._subplots.AxesSubplot at 0x126c9d90>"
      ]
     },
     "execution_count": 78,
     "metadata": {},
     "output_type": "execute_result"
    },
    {
     "data": {
      "image/png": "[encoded data removed]",
      "text/plain": [
       "<Figure size 432x288 with 1 Axes>"
      ]
     },
     "metadata": {
      "needs_background": "light"
     },
     "output_type": "display_data"
    }
   ],
   "source": [
    "df['oldpeak'].hist(bins=10)"
   ]
  },
  {
   "cell_type": "code",
   "execution_count": 79,
   "metadata": {},
   "outputs": [
    {
     "data": {
      "image/png": "[encoded data removed]",
      "text/plain": [
       "<Figure size 720x720 with 1 Axes>"
      ]
     },
     "metadata": {
      "needs_background": "light"
     },
     "output_type": "display_data"
    }
   ],
   "source": [
    "sns.boxplot(data=df[['age','trestbps','chol','thalach','oldpeak']])\n",
    "fig=plt.gcf()\n",
    "fig.set_size_inches(10,10)"
   ]
  },
  {
   "cell_type": "code",
   "execution_count": 80,
   "metadata": {},
   "outputs": [
    {
     "data": {
      "text/plain": [
       "<matplotlib.axes._subplots.AxesSubplot at 0x129ff330>"
      ]
     },
     "execution_count": 80,
     "metadata": {},
     "output_type": "execute_result"
    },
    {
     "data": {
      "image/png": "[encoded data removed]",
      "text/plain": [
       "<Figure size 432x288 with 1 Axes>"
      ]
     },
     "metadata": {
      "needs_background": "light"
     },
     "output_type": "display_data"
    }
   ],
   "source": [
    "sns.boxplot(x=df['oldpeak'],data=df,orient='h')"
   ]
  },
  {
   "cell_type": "code",
   "execution_count": 81,
   "metadata": {},
   "outputs": [
    {
     "name": "stdout",
     "output_type": "stream",
     "text": [
      "(1.6, 0.0)\n",
      "(-2.4000000000000004, 4.0)\n"
     ]
    }
   ],
   "source": [
    "outlier_treatment('oldpeak')"
   ]
  },
  {
   "cell_type": "code",
   "execution_count": 82,
   "metadata": {},
   "outputs": [],
   "source": [
    "df['oldpeak']= df['oldpeak'].fillna(df['oldpeak'].mean())"
   ]
  },
  {
   "cell_type": "code",
   "execution_count": 83,
   "metadata": {},
   "outputs": [
    {
     "name": "stdout",
     "output_type": "stream",
     "text": [
      "(274.5, 211.0)\n",
      "(115.75, 369.75)\n"
     ]
    }
   ],
   "source": [
    "outlier_treatment('chol')"
   ]
  },
  {
   "cell_type": "code",
   "execution_count": 84,
   "metadata": {},
   "outputs": [],
   "source": [
    "df['chol']= df['chol'].fillna(df['chol'].median())"
   ]
  },
  {
   "cell_type": "code",
   "execution_count": 85,
   "metadata": {},
   "outputs": [
    {
     "name": "stdout",
     "output_type": "stream",
     "text": [
      "(140.0, 120.0)\n",
      "(90.0, 170.0)\n"
     ]
    }
   ],
   "source": [
    "outlier_treatment('trestbps')"
   ]
  },
  {
   "cell_type": "code",
   "execution_count": 86,
   "metadata": {},
   "outputs": [],
   "source": [
    "df['trestbps']= df['trestbps'].fillna(df['trestbps'].median())"
   ]
  },
  {
   "cell_type": "code",
   "execution_count": 87,
   "metadata": {},
   "outputs": [
    {
     "name": "stdout",
     "output_type": "stream",
     "text": [
      "(166.0, 133.5)\n",
      "(84.75, 214.75)\n"
     ]
    }
   ],
   "source": [
    "outlier_treatment('thalach')"
   ]
  },
  {
   "cell_type": "code",
   "execution_count": 88,
   "metadata": {},
   "outputs": [],
   "source": [
    "df['thalach']= df['thalach'].fillna(df['thalach'].median())"
   ]
  },
  {
   "cell_type": "code",
   "execution_count": 89,
   "metadata": {},
   "outputs": [
    {
     "data": {
      "text/plain": [
       "age           int64\n",
       "sex           int64\n",
       "cp            int64\n",
       "trestbps    float64\n",
       "chol        float64\n",
       "fbs           int64\n",
       "restecg       int64\n",
       "thalach     float64\n",
       "exang         int64\n",
       "oldpeak     float64\n",
       "slope         int64\n",
       "ca            int64\n",
       "thal          int64\n",
       "target        int64\n",
       "dtype: object"
      ]
     },
     "execution_count": 89,
     "metadata": {},
     "output_type": "execute_result"
    }
   ],
   "source": [
    "df.dtypes"
   ]
  },
  {
   "cell_type": "code",
   "execution_count": 91,
   "metadata": {},
   "outputs": [
    {
     "data": {
      "text/plain": [
       "array([150., 187., 172., 178., 163., 148., 153., 173., 162., 174., 160.,\n",
       "       139., 171., 144., 158., 114., 151., 161., 179., 137., 157., 123.,\n",
       "       152., 168., 140., 188., 125., 170., 165., 142., 180., 143., 182.,\n",
       "       156., 115., 149., 146., 175., 186., 185., 159., 130., 190., 132.,\n",
       "       147., 154., 202., 166., 164., 184., 122., 169., 138., 111., 145.,\n",
       "       194., 131., 133., 155., 167., 192., 121.,  96., 126., 105., 181.,\n",
       "       116., 108., 129., 120., 112., 128., 109., 113.,  99., 177., 141.,\n",
       "       136.,  97., 127., 103., 124.,  88., 195., 106.,  95., 117., 118.,\n",
       "       134.,  90.])"
      ]
     },
     "execution_count": 91,
     "metadata": {},
     "output_type": "execute_result"
    }
   ],
   "source": [
    "df['thalach'].unique()"
   ]
  },
  {
   "cell_type": "code",
   "execution_count": 92,
   "metadata": {},
   "outputs": [],
   "source": [
    "df_final=df.astype({'trestbps':int,'chol':int,'thalach':int})"
   ]
  },
  {
   "cell_type": "code",
   "execution_count": 93,
   "metadata": {},
   "outputs": [
    {
     "data": {
      "text/html": [
       "<div>\n",
       "<style scoped>\n",
       "    .dataframe tbody tr th:only-of-type {\n",
       "        vertical-align: middle;\n",
       "    }\n",
       "\n",
       "    .dataframe tbody tr th {\n",
       "        vertical-align: top;\n",
       "    }\n",
       "\n",
       "    .dataframe thead th {\n",
       "        text-align: right;\n",
       "    }\n",
       "</style>\n",
       "<table border=\"1\" class=\"dataframe\">\n",
       "  <thead>\n",
       "    <tr style=\"text-align: right;\">\n",
       "      <th></th>\n",
       "      <th>age</th>\n",
       "      <th>sex</th>\n",
       "      <th>cp</th>\n",
       "      <th>trestbps</th>\n",
       "      <th>chol</th>\n",
       "      <th>fbs</th>\n",
       "      <th>restecg</th>\n",
       "      <th>thalach</th>\n",
       "      <th>exang</th>\n",
       "      <th>oldpeak</th>\n",
       "      <th>slope</th>\n",
       "      <th>ca</th>\n",
       "      <th>thal</th>\n",
       "      <th>target</th>\n",
       "    </tr>\n",
       "  </thead>\n",
       "  <tbody>\n",
       "    <tr>\n",
       "      <th>0</th>\n",
       "      <td>63</td>\n",
       "      <td>1</td>\n",
       "      <td>3</td>\n",
       "      <td>145</td>\n",
       "      <td>233</td>\n",
       "      <td>1</td>\n",
       "      <td>0</td>\n",
       "      <td>150</td>\n",
       "      <td>0</td>\n",
       "      <td>2.3</td>\n",
       "      <td>0</td>\n",
       "      <td>0</td>\n",
       "      <td>1</td>\n",
       "      <td>1</td>\n",
       "    </tr>\n",
       "    <tr>\n",
       "      <th>1</th>\n",
       "      <td>37</td>\n",
       "      <td>1</td>\n",
       "      <td>2</td>\n",
       "      <td>130</td>\n",
       "      <td>250</td>\n",
       "      <td>0</td>\n",
       "      <td>1</td>\n",
       "      <td>187</td>\n",
       "      <td>0</td>\n",
       "      <td>3.5</td>\n",
       "      <td>0</td>\n",
       "      <td>0</td>\n",
       "      <td>2</td>\n",
       "      <td>1</td>\n",
       "    </tr>\n",
       "    <tr>\n",
       "      <th>2</th>\n",
       "      <td>41</td>\n",
       "      <td>0</td>\n",
       "      <td>1</td>\n",
       "      <td>130</td>\n",
       "      <td>204</td>\n",
       "      <td>0</td>\n",
       "      <td>0</td>\n",
       "      <td>172</td>\n",
       "      <td>0</td>\n",
       "      <td>1.4</td>\n",
       "      <td>2</td>\n",
       "      <td>0</td>\n",
       "      <td>2</td>\n",
       "      <td>1</td>\n",
       "    </tr>\n",
       "    <tr>\n",
       "      <th>3</th>\n",
       "      <td>56</td>\n",
       "      <td>1</td>\n",
       "      <td>1</td>\n",
       "      <td>120</td>\n",
       "      <td>236</td>\n",
       "      <td>0</td>\n",
       "      <td>1</td>\n",
       "      <td>178</td>\n",
       "      <td>0</td>\n",
       "      <td>0.8</td>\n",
       "      <td>2</td>\n",
       "      <td>0</td>\n",
       "      <td>2</td>\n",
       "      <td>1</td>\n",
       "    </tr>\n",
       "    <tr>\n",
       "      <th>4</th>\n",
       "      <td>57</td>\n",
       "      <td>0</td>\n",
       "      <td>0</td>\n",
       "      <td>120</td>\n",
       "      <td>354</td>\n",
       "      <td>0</td>\n",
       "      <td>1</td>\n",
       "      <td>163</td>\n",
       "      <td>1</td>\n",
       "      <td>0.6</td>\n",
       "      <td>2</td>\n",
       "      <td>0</td>\n",
       "      <td>2</td>\n",
       "      <td>1</td>\n",
       "    </tr>\n",
       "  </tbody>\n",
       "</table>\n",
       "</div>"
      ],
      "text/plain": [
       "   age  sex  cp  trestbps  chol  fbs  restecg  thalach  exang  oldpeak  slope  \\\n",
       "0   63    1   3       145   233    1        0      150      0      2.3      0   \n",
       "1   37    1   2       130   250    0        1      187      0      3.5      0   \n",
       "2   41    0   1       130   204    0        0      172      0      1.4      2   \n",
       "3   56    1   1       120   236    0        1      178      0      0.8      2   \n",
       "4   57    0   0       120   354    0        1      163      1      0.6      2   \n",
       "\n",
       "   ca  thal  target  \n",
       "0   0     1       1  \n",
       "1   0     2       1  \n",
       "2   0     2       1  \n",
       "3   0     2       1  \n",
       "4   0     2       1  "
      ]
     },
     "execution_count": 93,
     "metadata": {},
     "output_type": "execute_result"
    }
   ],
   "source": [
    "df_final.head()"
   ]
  },
  {
   "cell_type": "code",
   "execution_count": 95,
   "metadata": {},
   "outputs": [
    {
     "data": {
      "text/plain": [
       "age           int64\n",
       "sex           int64\n",
       "cp            int64\n",
       "trestbps      int32\n",
       "chol          int32\n",
       "fbs           int64\n",
       "restecg       int64\n",
       "thalach       int32\n",
       "exang         int64\n",
       "oldpeak     float64\n",
       "slope         int64\n",
       "ca            int64\n",
       "thal          int64\n",
       "target        int64\n",
       "dtype: object"
      ]
     },
     "execution_count": 95,
     "metadata": {},
     "output_type": "execute_result"
    }
   ],
   "source": [
    "df_final.dtypes"
   ]
  },
  {
   "cell_type": "code",
   "execution_count": 96,
   "metadata": {},
   "outputs": [],
   "source": [
    "df_final=pd.get_dummies(df_final,columns=['sex','cp','fbs','restecg','exang','slope','ca','thal'],drop_first=True)"
   ]
  },
  {
   "cell_type": "code",
   "execution_count": 97,
   "metadata": {},
   "outputs": [
    {
     "data": {
      "text/html": [
       "<div>\n",
       "<style scoped>\n",
       "    .dataframe tbody tr th:only-of-type {\n",
       "        vertical-align: middle;\n",
       "    }\n",
       "\n",
       "    .dataframe tbody tr th {\n",
       "        vertical-align: top;\n",
       "    }\n",
       "\n",
       "    .dataframe thead th {\n",
       "        text-align: right;\n",
       "    }\n",
       "</style>\n",
       "<table border=\"1\" class=\"dataframe\">\n",
       "  <thead>\n",
       "    <tr style=\"text-align: right;\">\n",
       "      <th></th>\n",
       "      <th>age</th>\n",
       "      <th>trestbps</th>\n",
       "      <th>chol</th>\n",
       "      <th>thalach</th>\n",
       "      <th>oldpeak</th>\n",
       "      <th>target</th>\n",
       "      <th>sex_1</th>\n",
       "      <th>cp_1</th>\n",
       "      <th>cp_2</th>\n",
       "      <th>cp_3</th>\n",
       "      <th>...</th>\n",
       "      <th>exang_1</th>\n",
       "      <th>slope_1</th>\n",
       "      <th>slope_2</th>\n",
       "      <th>ca_1</th>\n",
       "      <th>ca_2</th>\n",
       "      <th>ca_3</th>\n",
       "      <th>ca_4</th>\n",
       "      <th>thal_1</th>\n",
       "      <th>thal_2</th>\n",
       "      <th>thal_3</th>\n",
       "    </tr>\n",
       "  </thead>\n",
       "  <tbody>\n",
       "    <tr>\n",
       "      <th>0</th>\n",
       "      <td>63</td>\n",
       "      <td>145</td>\n",
       "      <td>233</td>\n",
       "      <td>150</td>\n",
       "      <td>2.3</td>\n",
       "      <td>1</td>\n",
       "      <td>1</td>\n",
       "      <td>0</td>\n",
       "      <td>0</td>\n",
       "      <td>1</td>\n",
       "      <td>...</td>\n",
       "      <td>0</td>\n",
       "      <td>0</td>\n",
       "      <td>0</td>\n",
       "      <td>0</td>\n",
       "      <td>0</td>\n",
       "      <td>0</td>\n",
       "      <td>0</td>\n",
       "      <td>1</td>\n",
       "      <td>0</td>\n",
       "      <td>0</td>\n",
       "    </tr>\n",
       "    <tr>\n",
       "      <th>1</th>\n",
       "      <td>37</td>\n",
       "      <td>130</td>\n",
       "      <td>250</td>\n",
       "      <td>187</td>\n",
       "      <td>3.5</td>\n",
       "      <td>1</td>\n",
       "      <td>1</td>\n",
       "      <td>0</td>\n",
       "      <td>1</td>\n",
       "      <td>0</td>\n",
       "      <td>...</td>\n",
       "      <td>0</td>\n",
       "      <td>0</td>\n",
       "      <td>0</td>\n",
       "      <td>0</td>\n",
       "      <td>0</td>\n",
       "      <td>0</td>\n",
       "      <td>0</td>\n",
       "      <td>0</td>\n",
       "      <td>1</td>\n",
       "      <td>0</td>\n",
       "    </tr>\n",
       "    <tr>\n",
       "      <th>2</th>\n",
       "      <td>41</td>\n",
       "      <td>130</td>\n",
       "      <td>204</td>\n",
       "      <td>172</td>\n",
       "      <td>1.4</td>\n",
       "      <td>1</td>\n",
       "      <td>0</td>\n",
       "      <td>1</td>\n",
       "      <td>0</td>\n",
       "      <td>0</td>\n",
       "      <td>...</td>\n",
       "      <td>0</td>\n",
       "      <td>0</td>\n",
       "      <td>1</td>\n",
       "      <td>0</td>\n",
       "      <td>0</td>\n",
       "      <td>0</td>\n",
       "      <td>0</td>\n",
       "      <td>0</td>\n",
       "      <td>1</td>\n",
       "      <td>0</td>\n",
       "    </tr>\n",
       "    <tr>\n",
       "      <th>3</th>\n",
       "      <td>56</td>\n",
       "      <td>120</td>\n",
       "      <td>236</td>\n",
       "      <td>178</td>\n",
       "      <td>0.8</td>\n",
       "      <td>1</td>\n",
       "      <td>1</td>\n",
       "      <td>1</td>\n",
       "      <td>0</td>\n",
       "      <td>0</td>\n",
       "      <td>...</td>\n",
       "      <td>0</td>\n",
       "      <td>0</td>\n",
       "      <td>1</td>\n",
       "      <td>0</td>\n",
       "      <td>0</td>\n",
       "      <td>0</td>\n",
       "      <td>0</td>\n",
       "      <td>0</td>\n",
       "      <td>1</td>\n",
       "      <td>0</td>\n",
       "    </tr>\n",
       "    <tr>\n",
       "      <th>4</th>\n",
       "      <td>57</td>\n",
       "      <td>120</td>\n",
       "      <td>354</td>\n",
       "      <td>163</td>\n",
       "      <td>0.6</td>\n",
       "      <td>1</td>\n",
       "      <td>0</td>\n",
       "      <td>0</td>\n",
       "      <td>0</td>\n",
       "      <td>0</td>\n",
       "      <td>...</td>\n",
       "      <td>1</td>\n",
       "      <td>0</td>\n",
       "      <td>1</td>\n",
       "      <td>0</td>\n",
       "      <td>0</td>\n",
       "      <td>0</td>\n",
       "      <td>0</td>\n",
       "      <td>0</td>\n",
       "      <td>1</td>\n",
       "      <td>0</td>\n",
       "    </tr>\n",
       "  </tbody>\n",
       "</table>\n",
       "<p>5 rows × 23 columns</p>\n",
       "</div>"
      ],
      "text/plain": [
       "   age  trestbps  chol  thalach  oldpeak  target  sex_1  cp_1  cp_2  cp_3  \\\n",
       "0   63       145   233      150      2.3       1      1     0     0     1   \n",
       "1   37       130   250      187      3.5       1      1     0     1     0   \n",
       "2   41       130   204      172      1.4       1      0     1     0     0   \n",
       "3   56       120   236      178      0.8       1      1     1     0     0   \n",
       "4   57       120   354      163      0.6       1      0     0     0     0   \n",
       "\n",
       "   ...  exang_1  slope_1  slope_2  ca_1  ca_2  ca_3  ca_4  thal_1  thal_2  \\\n",
       "0  ...        0        0        0     0     0     0     0       1       0   \n",
       "1  ...        0        0        0     0     0     0     0       0       1   \n",
       "2  ...        0        0        1     0     0     0     0       0       1   \n",
       "3  ...        0        0        1     0     0     0     0       0       1   \n",
       "4  ...        1        0        1     0     0     0     0       0       1   \n",
       "\n",
       "   thal_3  \n",
       "0       0  \n",
       "1       0  \n",
       "2       0  \n",
       "3       0  \n",
       "4       0  \n",
       "\n",
       "[5 rows x 23 columns]"
      ]
     },
     "execution_count": 97,
     "metadata": {},
     "output_type": "execute_result"
    }
   ],
   "source": [
    "df_final.head()"
   ]
  },
  {
   "cell_type": "code",
   "execution_count": 99,
   "metadata": {},
   "outputs": [
    {
     "data": {
      "text/html": [
       "<style  type=\"text/css\" >\n",
       "    #T_6a03a2ee_c03e_11ea_91c0_f4764ca0241drow0_col0 {\n",
       "            background-color:  #b40426;\n",
       "            color:  #f1f1f1;\n",
       "        }    #T_6a03a2ee_c03e_11ea_91c0_f4764ca0241drow0_col1 {\n",
       "            background-color:  #7ea1fa;\n",
       "            color:  #000000;\n",
       "        }    #T_6a03a2ee_c03e_11ea_91c0_f4764ca0241drow0_col2 {\n",
       "            background-color:  #86a9fc;\n",
       "            color:  #000000;\n",
       "        }    #T_6a03a2ee_c03e_11ea_91c0_f4764ca0241drow0_col3 {\n",
       "            background-color:  #d6dce4;\n",
       "            color:  #000000;\n",
       "        }    #T_6a03a2ee_c03e_11ea_91c0_f4764ca0241drow0_col4 {\n",
       "            background-color:  #c3d5f4;\n",
       "            color:  #000000;\n",
       "        }    #T_6a03a2ee_c03e_11ea_91c0_f4764ca0241drow0_col5 {\n",
       "            background-color:  #b6cefa;\n",
       "            color:  #000000;\n",
       "        }    #T_6a03a2ee_c03e_11ea_91c0_f4764ca0241drow0_col6 {\n",
       "            background-color:  #7a9df8;\n",
       "            color:  #000000;\n",
       "        }    #T_6a03a2ee_c03e_11ea_91c0_f4764ca0241drow0_col7 {\n",
       "            background-color:  #3b4cc0;\n",
       "            color:  #f1f1f1;\n",
       "        }    #T_6a03a2ee_c03e_11ea_91c0_f4764ca0241drow0_col8 {\n",
       "            background-color:  #afcafc;\n",
       "            color:  #000000;\n",
       "        }    #T_6a03a2ee_c03e_11ea_91c0_f4764ca0241drow0_col9 {\n",
       "            background-color:  #cbd8ee;\n",
       "            color:  #000000;\n",
       "        }    #T_6a03a2ee_c03e_11ea_91c0_f4764ca0241drow0_col10 {\n",
       "            background-color:  #6c8ff1;\n",
       "            color:  #000000;\n",
       "        }    #T_6a03a2ee_c03e_11ea_91c0_f4764ca0241drow0_col11 {\n",
       "            background-color:  #d7dce3;\n",
       "            color:  #000000;\n",
       "        }    #T_6a03a2ee_c03e_11ea_91c0_f4764ca0241drow0_col12 {\n",
       "            background-color:  #a9c6fd;\n",
       "            color:  #000000;\n",
       "        }    #T_6a03a2ee_c03e_11ea_91c0_f4764ca0241drow0_col13 {\n",
       "            background-color:  #5f7fe8;\n",
       "            color:  #000000;\n",
       "        }    #T_6a03a2ee_c03e_11ea_91c0_f4764ca0241drow1_col0 {\n",
       "            background-color:  #6788ee;\n",
       "            color:  #000000;\n",
       "        }    #T_6a03a2ee_c03e_11ea_91c0_f4764ca0241drow1_col1 {\n",
       "            background-color:  #b40426;\n",
       "            color:  #f1f1f1;\n",
       "        }    #T_6a03a2ee_c03e_11ea_91c0_f4764ca0241drow1_col2 {\n",
       "            background-color:  #7597f6;\n",
       "            color:  #000000;\n",
       "        }    #T_6a03a2ee_c03e_11ea_91c0_f4764ca0241drow1_col3 {\n",
       "            background-color:  #7ea1fa;\n",
       "            color:  #000000;\n",
       "        }    #T_6a03a2ee_c03e_11ea_91c0_f4764ca0241drow1_col4 {\n",
       "            background-color:  #6180e9;\n",
       "            color:  #000000;\n",
       "        }    #T_6a03a2ee_c03e_11ea_91c0_f4764ca0241drow1_col5 {\n",
       "            background-color:  #8fb1fe;\n",
       "            color:  #000000;\n",
       "        }    #T_6a03a2ee_c03e_11ea_91c0_f4764ca0241drow1_col6 {\n",
       "            background-color:  #7295f4;\n",
       "            color:  #000000;\n",
       "        }    #T_6a03a2ee_c03e_11ea_91c0_f4764ca0241drow1_col7 {\n",
       "            background-color:  #779af7;\n",
       "            color:  #000000;\n",
       "        }    #T_6a03a2ee_c03e_11ea_91c0_f4764ca0241drow1_col8 {\n",
       "            background-color:  #a9c6fd;\n",
       "            color:  #000000;\n",
       "        }    #T_6a03a2ee_c03e_11ea_91c0_f4764ca0241drow1_col9 {\n",
       "            background-color:  #9ebeff;\n",
       "            color:  #000000;\n",
       "        }    #T_6a03a2ee_c03e_11ea_91c0_f4764ca0241drow1_col10 {\n",
       "            background-color:  #7a9df8;\n",
       "            color:  #000000;\n",
       "        }    #T_6a03a2ee_c03e_11ea_91c0_f4764ca0241drow1_col11 {\n",
       "            background-color:  #a2c1ff;\n",
       "            color:  #000000;\n",
       "        }    #T_6a03a2ee_c03e_11ea_91c0_f4764ca0241drow1_col12 {\n",
       "            background-color:  #bbd1f8;\n",
       "            color:  #000000;\n",
       "        }    #T_6a03a2ee_c03e_11ea_91c0_f4764ca0241drow1_col13 {\n",
       "            background-color:  #3b4cc0;\n",
       "            color:  #f1f1f1;\n",
       "        }    #T_6a03a2ee_c03e_11ea_91c0_f4764ca0241drow2_col0 {\n",
       "            background-color:  #86a9fc;\n",
       "            color:  #000000;\n",
       "        }    #T_6a03a2ee_c03e_11ea_91c0_f4764ca0241drow2_col1 {\n",
       "            background-color:  #8caffe;\n",
       "            color:  #000000;\n",
       "        }    #T_6a03a2ee_c03e_11ea_91c0_f4764ca0241drow2_col2 {\n",
       "            background-color:  #b40426;\n",
       "            color:  #f1f1f1;\n",
       "        }    #T_6a03a2ee_c03e_11ea_91c0_f4764ca0241drow2_col3 {\n",
       "            background-color:  #a9c6fd;\n",
       "            color:  #000000;\n",
       "        }    #T_6a03a2ee_c03e_11ea_91c0_f4764ca0241drow2_col4 {\n",
       "            background-color:  #81a4fb;\n",
       "            color:  #000000;\n",
       "        }    #T_6a03a2ee_c03e_11ea_91c0_f4764ca0241drow2_col5 {\n",
       "            background-color:  #afcafc;\n",
       "            color:  #000000;\n",
       "        }    #T_6a03a2ee_c03e_11ea_91c0_f4764ca0241drow2_col6 {\n",
       "            background-color:  #a3c2fe;\n",
       "            color:  #000000;\n",
       "        }    #T_6a03a2ee_c03e_11ea_91c0_f4764ca0241drow2_col7 {\n",
       "            background-color:  #dadce0;\n",
       "            color:  #000000;\n",
       "        }    #T_6a03a2ee_c03e_11ea_91c0_f4764ca0241drow2_col8 {\n",
       "            background-color:  #3b4cc0;\n",
       "            color:  #f1f1f1;\n",
       "        }    #T_6a03a2ee_c03e_11ea_91c0_f4764ca0241drow2_col9 {\n",
       "            background-color:  #7699f6;\n",
       "            color:  #000000;\n",
       "        }    #T_6a03a2ee_c03e_11ea_91c0_f4764ca0241drow2_col10 {\n",
       "            background-color:  #b6cefa;\n",
       "            color:  #000000;\n",
       "        }    #T_6a03a2ee_c03e_11ea_91c0_f4764ca0241drow2_col11 {\n",
       "            background-color:  #6b8df0;\n",
       "            color:  #000000;\n",
       "        }    #T_6a03a2ee_c03e_11ea_91c0_f4764ca0241drow2_col12 {\n",
       "            background-color:  #6f92f3;\n",
       "            color:  #000000;\n",
       "        }    #T_6a03a2ee_c03e_11ea_91c0_f4764ca0241drow2_col13 {\n",
       "            background-color:  #f1ccb8;\n",
       "            color:  #000000;\n",
       "        }    #T_6a03a2ee_c03e_11ea_91c0_f4764ca0241drow3_col0 {\n",
       "            background-color:  #b5cdfa;\n",
       "            color:  #000000;\n",
       "        }    #T_6a03a2ee_c03e_11ea_91c0_f4764ca0241drow3_col1 {\n",
       "            background-color:  #5f7fe8;\n",
       "            color:  #000000;\n",
       "        }    #T_6a03a2ee_c03e_11ea_91c0_f4764ca0241drow3_col2 {\n",
       "            background-color:  #779af7;\n",
       "            color:  #000000;\n",
       "        }    #T_6a03a2ee_c03e_11ea_91c0_f4764ca0241drow3_col3 {\n",
       "            background-color:  #b40426;\n",
       "            color:  #f1f1f1;\n",
       "        }    #T_6a03a2ee_c03e_11ea_91c0_f4764ca0241drow3_col4 {\n",
       "            background-color:  #7ea1fa;\n",
       "            color:  #000000;\n",
       "        }    #T_6a03a2ee_c03e_11ea_91c0_f4764ca0241drow3_col5 {\n",
       "            background-color:  #86a9fc;\n",
       "            color:  #000000;\n",
       "        }    #T_6a03a2ee_c03e_11ea_91c0_f4764ca0241drow3_col6 {\n",
       "            background-color:  #3b4cc0;\n",
       "            color:  #f1f1f1;\n",
       "        }    #T_6a03a2ee_c03e_11ea_91c0_f4764ca0241drow3_col7 {\n",
       "            background-color:  #4e68d8;\n",
       "            color:  #000000;\n",
       "        }    #T_6a03a2ee_c03e_11ea_91c0_f4764ca0241drow3_col8 {\n",
       "            background-color:  #6384eb;\n",
       "            color:  #000000;\n",
       "        }    #T_6a03a2ee_c03e_11ea_91c0_f4764ca0241drow3_col9 {\n",
       "            background-color:  #8fb1fe;\n",
       "            color:  #000000;\n",
       "        }    #T_6a03a2ee_c03e_11ea_91c0_f4764ca0241drow3_col10 {\n",
       "            background-color:  #4a63d3;\n",
       "            color:  #f1f1f1;\n",
       "        }    #T_6a03a2ee_c03e_11ea_91c0_f4764ca0241drow3_col11 {\n",
       "            background-color:  #89acfd;\n",
       "            color:  #000000;\n",
       "        }    #T_6a03a2ee_c03e_11ea_91c0_f4764ca0241drow3_col12 {\n",
       "            background-color:  #6687ed;\n",
       "            color:  #000000;\n",
       "        }    #T_6a03a2ee_c03e_11ea_91c0_f4764ca0241drow3_col13 {\n",
       "            background-color:  #4257c9;\n",
       "            color:  #f1f1f1;\n",
       "        }    #T_6a03a2ee_c03e_11ea_91c0_f4764ca0241drow4_col0 {\n",
       "            background-color:  #92b4fe;\n",
       "            color:  #000000;\n",
       "        }    #T_6a03a2ee_c03e_11ea_91c0_f4764ca0241drow4_col1 {\n",
       "            background-color:  #3b4cc0;\n",
       "            color:  #f1f1f1;\n",
       "        }    #T_6a03a2ee_c03e_11ea_91c0_f4764ca0241drow4_col2 {\n",
       "            background-color:  #4257c9;\n",
       "            color:  #f1f1f1;\n",
       "        }    #T_6a03a2ee_c03e_11ea_91c0_f4764ca0241drow4_col3 {\n",
       "            background-color:  #779af7;\n",
       "            color:  #000000;\n",
       "        }    #T_6a03a2ee_c03e_11ea_91c0_f4764ca0241drow4_col4 {\n",
       "            background-color:  #b40426;\n",
       "            color:  #f1f1f1;\n",
       "        }    #T_6a03a2ee_c03e_11ea_91c0_f4764ca0241drow4_col5 {\n",
       "            background-color:  #5e7de7;\n",
       "            color:  #000000;\n",
       "        }    #T_6a03a2ee_c03e_11ea_91c0_f4764ca0241drow4_col6 {\n",
       "            background-color:  #3f53c6;\n",
       "            color:  #f1f1f1;\n",
       "        }    #T_6a03a2ee_c03e_11ea_91c0_f4764ca0241drow4_col7 {\n",
       "            background-color:  #516ddb;\n",
       "            color:  #000000;\n",
       "        }    #T_6a03a2ee_c03e_11ea_91c0_f4764ca0241drow4_col8 {\n",
       "            background-color:  #7b9ff9;\n",
       "            color:  #000000;\n",
       "        }    #T_6a03a2ee_c03e_11ea_91c0_f4764ca0241drow4_col9 {\n",
       "            background-color:  #5f7fe8;\n",
       "            color:  #000000;\n",
       "        }    #T_6a03a2ee_c03e_11ea_91c0_f4764ca0241drow4_col10 {\n",
       "            background-color:  #6282ea;\n",
       "            color:  #000000;\n",
       "        }    #T_6a03a2ee_c03e_11ea_91c0_f4764ca0241drow4_col11 {\n",
       "            background-color:  #6e90f2;\n",
       "            color:  #000000;\n",
       "        }    #T_6a03a2ee_c03e_11ea_91c0_f4764ca0241drow4_col12 {\n",
       "            background-color:  #7295f4;\n",
       "            color:  #000000;\n",
       "        }    #T_6a03a2ee_c03e_11ea_91c0_f4764ca0241drow4_col13 {\n",
       "            background-color:  #3c4ec2;\n",
       "            color:  #f1f1f1;\n",
       "        }    #T_6a03a2ee_c03e_11ea_91c0_f4764ca0241drow5_col0 {\n",
       "            background-color:  #779af7;\n",
       "            color:  #000000;\n",
       "        }    #T_6a03a2ee_c03e_11ea_91c0_f4764ca0241drow5_col1 {\n",
       "            background-color:  #5f7fe8;\n",
       "            color:  #000000;\n",
       "        }    #T_6a03a2ee_c03e_11ea_91c0_f4764ca0241drow5_col2 {\n",
       "            background-color:  #6f92f3;\n",
       "            color:  #000000;\n",
       "        }    #T_6a03a2ee_c03e_11ea_91c0_f4764ca0241drow5_col3 {\n",
       "            background-color:  #779af7;\n",
       "            color:  #000000;\n",
       "        }    #T_6a03a2ee_c03e_11ea_91c0_f4764ca0241drow5_col4 {\n",
       "            background-color:  #5572df;\n",
       "            color:  #000000;\n",
       "        }    #T_6a03a2ee_c03e_11ea_91c0_f4764ca0241drow5_col5 {\n",
       "            background-color:  #b40426;\n",
       "            color:  #f1f1f1;\n",
       "        }    #T_6a03a2ee_c03e_11ea_91c0_f4764ca0241drow5_col6 {\n",
       "            background-color:  #3b4cc0;\n",
       "            color:  #f1f1f1;\n",
       "        }    #T_6a03a2ee_c03e_11ea_91c0_f4764ca0241drow5_col7 {\n",
       "            background-color:  #4e68d8;\n",
       "            color:  #000000;\n",
       "        }    #T_6a03a2ee_c03e_11ea_91c0_f4764ca0241drow5_col8 {\n",
       "            background-color:  #5977e3;\n",
       "            color:  #000000;\n",
       "        }    #T_6a03a2ee_c03e_11ea_91c0_f4764ca0241drow5_col9 {\n",
       "            background-color:  #5b7ae5;\n",
       "            color:  #000000;\n",
       "        }    #T_6a03a2ee_c03e_11ea_91c0_f4764ca0241drow5_col10 {\n",
       "            background-color:  #4055c8;\n",
       "            color:  #f1f1f1;\n",
       "        }    #T_6a03a2ee_c03e_11ea_91c0_f4764ca0241drow5_col11 {\n",
       "            background-color:  #7da0f9;\n",
       "            color:  #000000;\n",
       "        }    #T_6a03a2ee_c03e_11ea_91c0_f4764ca0241drow5_col12 {\n",
       "            background-color:  #4961d2;\n",
       "            color:  #f1f1f1;\n",
       "        }    #T_6a03a2ee_c03e_11ea_91c0_f4764ca0241drow5_col13 {\n",
       "            background-color:  #4a63d3;\n",
       "            color:  #f1f1f1;\n",
       "        }    #T_6a03a2ee_c03e_11ea_91c0_f4764ca0241drow6_col0 {\n",
       "            background-color:  #4358cb;\n",
       "            color:  #f1f1f1;\n",
       "        }    #T_6a03a2ee_c03e_11ea_91c0_f4764ca0241drow6_col1 {\n",
       "            background-color:  #536edd;\n",
       "            color:  #000000;\n",
       "        }    #T_6a03a2ee_c03e_11ea_91c0_f4764ca0241drow6_col2 {\n",
       "            background-color:  #6f92f3;\n",
       "            color:  #000000;\n",
       "        }    #T_6a03a2ee_c03e_11ea_91c0_f4764ca0241drow6_col3 {\n",
       "            background-color:  #3b4cc0;\n",
       "            color:  #f1f1f1;\n",
       "        }    #T_6a03a2ee_c03e_11ea_91c0_f4764ca0241drow6_col4 {\n",
       "            background-color:  #465ecf;\n",
       "            color:  #f1f1f1;\n",
       "        }    #T_6a03a2ee_c03e_11ea_91c0_f4764ca0241drow6_col5 {\n",
       "            background-color:  #4b64d5;\n",
       "            color:  #f1f1f1;\n",
       "        }    #T_6a03a2ee_c03e_11ea_91c0_f4764ca0241drow6_col6 {\n",
       "            background-color:  #b40426;\n",
       "            color:  #f1f1f1;\n",
       "        }    #T_6a03a2ee_c03e_11ea_91c0_f4764ca0241drow6_col7 {\n",
       "            background-color:  #7396f5;\n",
       "            color:  #000000;\n",
       "        }    #T_6a03a2ee_c03e_11ea_91c0_f4764ca0241drow6_col8 {\n",
       "            background-color:  #4f69d9;\n",
       "            color:  #000000;\n",
       "        }    #T_6a03a2ee_c03e_11ea_91c0_f4764ca0241drow6_col9 {\n",
       "            background-color:  #4961d2;\n",
       "            color:  #f1f1f1;\n",
       "        }    #T_6a03a2ee_c03e_11ea_91c0_f4764ca0241drow6_col10 {\n",
       "            background-color:  #7ea1fa;\n",
       "            color:  #000000;\n",
       "        }    #T_6a03a2ee_c03e_11ea_91c0_f4764ca0241drow6_col11 {\n",
       "            background-color:  #4f69d9;\n",
       "            color:  #000000;\n",
       "        }    #T_6a03a2ee_c03e_11ea_91c0_f4764ca0241drow6_col12 {\n",
       "            background-color:  #5f7fe8;\n",
       "            color:  #000000;\n",
       "        }    #T_6a03a2ee_c03e_11ea_91c0_f4764ca0241drow6_col13 {\n",
       "            background-color:  #8caffe;\n",
       "            color:  #000000;\n",
       "        }    #T_6a03a2ee_c03e_11ea_91c0_f4764ca0241drow7_col0 {\n",
       "            background-color:  #3b4cc0;\n",
       "            color:  #f1f1f1;\n",
       "        }    #T_6a03a2ee_c03e_11ea_91c0_f4764ca0241drow7_col1 {\n",
       "            background-color:  #8fb1fe;\n",
       "            color:  #000000;\n",
       "        }    #T_6a03a2ee_c03e_11ea_91c0_f4764ca0241drow7_col2 {\n",
       "            background-color:  #dadce0;\n",
       "            color:  #000000;\n",
       "        }    #T_6a03a2ee_c03e_11ea_91c0_f4764ca0241drow7_col3 {\n",
       "            background-color:  #86a9fc;\n",
       "            color:  #000000;\n",
       "        }    #T_6a03a2ee_c03e_11ea_91c0_f4764ca0241drow7_col4 {\n",
       "            background-color:  #90b2fe;\n",
       "            color:  #000000;\n",
       "        }    #T_6a03a2ee_c03e_11ea_91c0_f4764ca0241drow7_col5 {\n",
       "            background-color:  #94b6ff;\n",
       "            color:  #000000;\n",
       "        }    #T_6a03a2ee_c03e_11ea_91c0_f4764ca0241drow7_col6 {\n",
       "            background-color:  #a6c4fe;\n",
       "            color:  #000000;\n",
       "        }    #T_6a03a2ee_c03e_11ea_91c0_f4764ca0241drow7_col7 {\n",
       "            background-color:  #b40426;\n",
       "            color:  #f1f1f1;\n",
       "        }    #T_6a03a2ee_c03e_11ea_91c0_f4764ca0241drow7_col8 {\n",
       "            background-color:  #3b4cc0;\n",
       "            color:  #f1f1f1;\n",
       "        }    #T_6a03a2ee_c03e_11ea_91c0_f4764ca0241drow7_col9 {\n",
       "            background-color:  #455cce;\n",
       "            color:  #f1f1f1;\n",
       "        }    #T_6a03a2ee_c03e_11ea_91c0_f4764ca0241drow7_col10 {\n",
       "            background-color:  #ebd3c6;\n",
       "            color:  #000000;\n",
       "        }    #T_6a03a2ee_c03e_11ea_91c0_f4764ca0241drow7_col11 {\n",
       "            background-color:  #5f7fe8;\n",
       "            color:  #000000;\n",
       "        }    #T_6a03a2ee_c03e_11ea_91c0_f4764ca0241drow7_col12 {\n",
       "            background-color:  #7ea1fa;\n",
       "            color:  #000000;\n",
       "        }    #T_6a03a2ee_c03e_11ea_91c0_f4764ca0241drow7_col13 {\n",
       "            background-color:  #efcebd;\n",
       "            color:  #000000;\n",
       "        }    #T_6a03a2ee_c03e_11ea_91c0_f4764ca0241drow8_col0 {\n",
       "            background-color:  #b7cff9;\n",
       "            color:  #000000;\n",
       "        }    #T_6a03a2ee_c03e_11ea_91c0_f4764ca0241drow8_col1 {\n",
       "            background-color:  #c1d4f4;\n",
       "            color:  #000000;\n",
       "        }    #T_6a03a2ee_c03e_11ea_91c0_f4764ca0241drow8_col2 {\n",
       "            background-color:  #4358cb;\n",
       "            color:  #f1f1f1;\n",
       "        }    #T_6a03a2ee_c03e_11ea_91c0_f4764ca0241drow8_col3 {\n",
       "            background-color:  #a1c0ff;\n",
       "            color:  #000000;\n",
       "        }    #T_6a03a2ee_c03e_11ea_91c0_f4764ca0241drow8_col4 {\n",
       "            background-color:  #b9d0f9;\n",
       "            color:  #000000;\n",
       "        }    #T_6a03a2ee_c03e_11ea_91c0_f4764ca0241drow8_col5 {\n",
       "            background-color:  #a6c4fe;\n",
       "            color:  #000000;\n",
       "        }    #T_6a03a2ee_c03e_11ea_91c0_f4764ca0241drow8_col6 {\n",
       "            background-color:  #8fb1fe;\n",
       "            color:  #000000;\n",
       "        }    #T_6a03a2ee_c03e_11ea_91c0_f4764ca0241drow8_col7 {\n",
       "            background-color:  #4358cb;\n",
       "            color:  #f1f1f1;\n",
       "        }    #T_6a03a2ee_c03e_11ea_91c0_f4764ca0241drow8_col8 {\n",
       "            background-color:  #b40426;\n",
       "            color:  #f1f1f1;\n",
       "        }    #T_6a03a2ee_c03e_11ea_91c0_f4764ca0241drow8_col9 {\n",
       "            background-color:  #e2dad5;\n",
       "            color:  #000000;\n",
       "        }    #T_6a03a2ee_c03e_11ea_91c0_f4764ca0241drow8_col10 {\n",
       "            background-color:  #6180e9;\n",
       "            color:  #000000;\n",
       "        }    #T_6a03a2ee_c03e_11ea_91c0_f4764ca0241drow8_col11 {\n",
       "            background-color:  #bbd1f8;\n",
       "            color:  #000000;\n",
       "        }    #T_6a03a2ee_c03e_11ea_91c0_f4764ca0241drow8_col12 {\n",
       "            background-color:  #cedaeb;\n",
       "            color:  #000000;\n",
       "        }    #T_6a03a2ee_c03e_11ea_91c0_f4764ca0241drow8_col13 {\n",
       "            background-color:  #3b4cc0;\n",
       "            color:  #f1f1f1;\n",
       "        }    #T_6a03a2ee_c03e_11ea_91c0_f4764ca0241drow9_col0 {\n",
       "            background-color:  #d8dce2;\n",
       "            color:  #000000;\n",
       "        }    #T_6a03a2ee_c03e_11ea_91c0_f4764ca0241drow9_col1 {\n",
       "            background-color:  #c3d5f4;\n",
       "            color:  #000000;\n",
       "        }    #T_6a03a2ee_c03e_11ea_91c0_f4764ca0241drow9_col2 {\n",
       "            background-color:  #8db0fe;\n",
       "            color:  #000000;\n",
       "        }    #T_6a03a2ee_c03e_11ea_91c0_f4764ca0241drow9_col3 {\n",
       "            background-color:  #cbd8ee;\n",
       "            color:  #000000;\n",
       "        }    #T_6a03a2ee_c03e_11ea_91c0_f4764ca0241drow9_col4 {\n",
       "            background-color:  #afcafc;\n",
       "            color:  #000000;\n",
       "        }    #T_6a03a2ee_c03e_11ea_91c0_f4764ca0241drow9_col5 {\n",
       "            background-color:  #b3cdfb;\n",
       "            color:  #000000;\n",
       "        }    #T_6a03a2ee_c03e_11ea_91c0_f4764ca0241drow9_col6 {\n",
       "            background-color:  #97b8ff;\n",
       "            color:  #000000;\n",
       "        }    #T_6a03a2ee_c03e_11ea_91c0_f4764ca0241drow9_col7 {\n",
       "            background-color:  #5e7de7;\n",
       "            color:  #000000;\n",
       "        }    #T_6a03a2ee_c03e_11ea_91c0_f4764ca0241drow9_col8 {\n",
       "            background-color:  #e9d5cb;\n",
       "            color:  #000000;\n",
       "        }    #T_6a03a2ee_c03e_11ea_91c0_f4764ca0241drow9_col9 {\n",
       "            background-color:  #b40426;\n",
       "            color:  #f1f1f1;\n",
       "        }    #T_6a03a2ee_c03e_11ea_91c0_f4764ca0241drow9_col10 {\n",
       "            background-color:  #3b4cc0;\n",
       "            color:  #f1f1f1;\n",
       "        }    #T_6a03a2ee_c03e_11ea_91c0_f4764ca0241drow9_col11 {\n",
       "            background-color:  #d3dbe7;\n",
       "            color:  #000000;\n",
       "        }    #T_6a03a2ee_c03e_11ea_91c0_f4764ca0241drow9_col12 {\n",
       "            background-color:  #d6dce4;\n",
       "            color:  #000000;\n",
       "        }    #T_6a03a2ee_c03e_11ea_91c0_f4764ca0241drow9_col13 {\n",
       "            background-color:  #4b64d5;\n",
       "            color:  #f1f1f1;\n",
       "        }    #T_6a03a2ee_c03e_11ea_91c0_f4764ca0241drow10_col0 {\n",
       "            background-color:  #85a8fc;\n",
       "            color:  #000000;\n",
       "        }    #T_6a03a2ee_c03e_11ea_91c0_f4764ca0241drow10_col1 {\n",
       "            background-color:  #a6c4fe;\n",
       "            color:  #000000;\n",
       "        }    #T_6a03a2ee_c03e_11ea_91c0_f4764ca0241drow10_col2 {\n",
       "            background-color:  #c6d6f1;\n",
       "            color:  #000000;\n",
       "        }    #T_6a03a2ee_c03e_11ea_91c0_f4764ca0241drow10_col3 {\n",
       "            background-color:  #98b9ff;\n",
       "            color:  #000000;\n",
       "        }    #T_6a03a2ee_c03e_11ea_91c0_f4764ca0241drow10_col4 {\n",
       "            background-color:  #b2ccfb;\n",
       "            color:  #000000;\n",
       "        }    #T_6a03a2ee_c03e_11ea_91c0_f4764ca0241drow10_col5 {\n",
       "            background-color:  #9fbfff;\n",
       "            color:  #000000;\n",
       "        }    #T_6a03a2ee_c03e_11ea_91c0_f4764ca0241drow10_col6 {\n",
       "            background-color:  #c1d4f4;\n",
       "            color:  #000000;\n",
       "        }    #T_6a03a2ee_c03e_11ea_91c0_f4764ca0241drow10_col7 {\n",
       "            background-color:  #f1ccb8;\n",
       "            color:  #000000;\n",
       "        }    #T_6a03a2ee_c03e_11ea_91c0_f4764ca0241drow10_col8 {\n",
       "            background-color:  #7093f3;\n",
       "            color:  #000000;\n",
       "        }    #T_6a03a2ee_c03e_11ea_91c0_f4764ca0241drow10_col9 {\n",
       "            background-color:  #3b4cc0;\n",
       "            color:  #f1f1f1;\n",
       "        }    #T_6a03a2ee_c03e_11ea_91c0_f4764ca0241drow10_col10 {\n",
       "            background-color:  #b40426;\n",
       "            color:  #f1f1f1;\n",
       "        }    #T_6a03a2ee_c03e_11ea_91c0_f4764ca0241drow10_col11 {\n",
       "            background-color:  #9abbff;\n",
       "            color:  #000000;\n",
       "        }    #T_6a03a2ee_c03e_11ea_91c0_f4764ca0241drow10_col12 {\n",
       "            background-color:  #94b6ff;\n",
       "            color:  #000000;\n",
       "        }    #T_6a03a2ee_c03e_11ea_91c0_f4764ca0241drow10_col13 {\n",
       "            background-color:  #edd2c3;\n",
       "            color:  #000000;\n",
       "        }    #T_6a03a2ee_c03e_11ea_91c0_f4764ca0241drow11_col0 {\n",
       "            background-color:  #d7dce3;\n",
       "            color:  #000000;\n",
       "        }    #T_6a03a2ee_c03e_11ea_91c0_f4764ca0241drow11_col1 {\n",
       "            background-color:  #b5cdfa;\n",
       "            color:  #000000;\n",
       "        }    #T_6a03a2ee_c03e_11ea_91c0_f4764ca0241drow11_col2 {\n",
       "            background-color:  #6a8bef;\n",
       "            color:  #000000;\n",
       "        }    #T_6a03a2ee_c03e_11ea_91c0_f4764ca0241drow11_col3 {\n",
       "            background-color:  #b7cff9;\n",
       "            color:  #000000;\n",
       "        }    #T_6a03a2ee_c03e_11ea_91c0_f4764ca0241drow11_col4 {\n",
       "            background-color:  #a7c5fe;\n",
       "            color:  #000000;\n",
       "        }    #T_6a03a2ee_c03e_11ea_91c0_f4764ca0241drow11_col5 {\n",
       "            background-color:  #bad0f8;\n",
       "            color:  #000000;\n",
       "        }    #T_6a03a2ee_c03e_11ea_91c0_f4764ca0241drow11_col6 {\n",
       "            background-color:  #85a8fc;\n",
       "            color:  #000000;\n",
       "        }    #T_6a03a2ee_c03e_11ea_91c0_f4764ca0241drow11_col7 {\n",
       "            background-color:  #5f7fe8;\n",
       "            color:  #000000;\n",
       "        }    #T_6a03a2ee_c03e_11ea_91c0_f4764ca0241drow11_col8 {\n",
       "            background-color:  #b5cdfa;\n",
       "            color:  #000000;\n",
       "        }    #T_6a03a2ee_c03e_11ea_91c0_f4764ca0241drow11_col9 {\n",
       "            background-color:  #c4d5f3;\n",
       "            color:  #000000;\n",
       "        }    #T_6a03a2ee_c03e_11ea_91c0_f4764ca0241drow11_col10 {\n",
       "            background-color:  #84a7fc;\n",
       "            color:  #000000;\n",
       "        }    #T_6a03a2ee_c03e_11ea_91c0_f4764ca0241drow11_col11 {\n",
       "            background-color:  #b40426;\n",
       "            color:  #f1f1f1;\n",
       "        }    #T_6a03a2ee_c03e_11ea_91c0_f4764ca0241drow11_col12 {\n",
       "            background-color:  #bcd2f7;\n",
       "            color:  #000000;\n",
       "        }    #T_6a03a2ee_c03e_11ea_91c0_f4764ca0241drow11_col13 {\n",
       "            background-color:  #3b4cc0;\n",
       "            color:  #f1f1f1;\n",
       "        }    #T_6a03a2ee_c03e_11ea_91c0_f4764ca0241drow12_col0 {\n",
       "            background-color:  #a1c0ff;\n",
       "            color:  #000000;\n",
       "        }    #T_6a03a2ee_c03e_11ea_91c0_f4764ca0241drow12_col1 {\n",
       "            background-color:  #c4d5f3;\n",
       "            color:  #000000;\n",
       "        }    #T_6a03a2ee_c03e_11ea_91c0_f4764ca0241drow12_col2 {\n",
       "            background-color:  #6485ec;\n",
       "            color:  #000000;\n",
       "        }    #T_6a03a2ee_c03e_11ea_91c0_f4764ca0241drow12_col3 {\n",
       "            background-color:  #92b4fe;\n",
       "            color:  #000000;\n",
       "        }    #T_6a03a2ee_c03e_11ea_91c0_f4764ca0241drow12_col4 {\n",
       "            background-color:  #a2c1ff;\n",
       "            color:  #000000;\n",
       "        }    #T_6a03a2ee_c03e_11ea_91c0_f4764ca0241drow12_col5 {\n",
       "            background-color:  #86a9fc;\n",
       "            color:  #000000;\n",
       "        }    #T_6a03a2ee_c03e_11ea_91c0_f4764ca0241drow12_col6 {\n",
       "            background-color:  #8caffe;\n",
       "            color:  #000000;\n",
       "        }    #T_6a03a2ee_c03e_11ea_91c0_f4764ca0241drow12_col7 {\n",
       "            background-color:  #7396f5;\n",
       "            color:  #000000;\n",
       "        }    #T_6a03a2ee_c03e_11ea_91c0_f4764ca0241drow12_col8 {\n",
       "            background-color:  #c3d5f4;\n",
       "            color:  #000000;\n",
       "        }    #T_6a03a2ee_c03e_11ea_91c0_f4764ca0241drow12_col9 {\n",
       "            background-color:  #c1d4f4;\n",
       "            color:  #000000;\n",
       "        }    #T_6a03a2ee_c03e_11ea_91c0_f4764ca0241drow12_col10 {\n",
       "            background-color:  #7396f5;\n",
       "            color:  #000000;\n",
       "        }    #T_6a03a2ee_c03e_11ea_91c0_f4764ca0241drow12_col11 {\n",
       "            background-color:  #b6cefa;\n",
       "            color:  #000000;\n",
       "        }    #T_6a03a2ee_c03e_11ea_91c0_f4764ca0241drow12_col12 {\n",
       "            background-color:  #b40426;\n",
       "            color:  #f1f1f1;\n",
       "        }    #T_6a03a2ee_c03e_11ea_91c0_f4764ca0241drow12_col13 {\n",
       "            background-color:  #3b4cc0;\n",
       "            color:  #f1f1f1;\n",
       "        }    #T_6a03a2ee_c03e_11ea_91c0_f4764ca0241drow13_col0 {\n",
       "            background-color:  #688aef;\n",
       "            color:  #000000;\n",
       "        }    #T_6a03a2ee_c03e_11ea_91c0_f4764ca0241drow13_col1 {\n",
       "            background-color:  #5b7ae5;\n",
       "            color:  #000000;\n",
       "        }    #T_6a03a2ee_c03e_11ea_91c0_f4764ca0241drow13_col2 {\n",
       "            background-color:  #f2c9b4;\n",
       "            color:  #000000;\n",
       "        }    #T_6a03a2ee_c03e_11ea_91c0_f4764ca0241drow13_col3 {\n",
       "            background-color:  #82a6fb;\n",
       "            color:  #000000;\n",
       "        }    #T_6a03a2ee_c03e_11ea_91c0_f4764ca0241drow13_col4 {\n",
       "            background-color:  #84a7fc;\n",
       "            color:  #000000;\n",
       "        }    #T_6a03a2ee_c03e_11ea_91c0_f4764ca0241drow13_col5 {\n",
       "            background-color:  #98b9ff;\n",
       "            color:  #000000;\n",
       "        }    #T_6a03a2ee_c03e_11ea_91c0_f4764ca0241drow13_col6 {\n",
       "            background-color:  #c0d4f5;\n",
       "            color:  #000000;\n",
       "        }    #T_6a03a2ee_c03e_11ea_91c0_f4764ca0241drow13_col7 {\n",
       "            background-color:  #f1ccb8;\n",
       "            color:  #000000;\n",
       "        }    #T_6a03a2ee_c03e_11ea_91c0_f4764ca0241drow13_col8 {\n",
       "            background-color:  #3b4cc0;\n",
       "            color:  #f1f1f1;\n",
       "        }    #T_6a03a2ee_c03e_11ea_91c0_f4764ca0241drow13_col9 {\n",
       "            background-color:  #3b4cc0;\n",
       "            color:  #f1f1f1;\n",
       "        }    #T_6a03a2ee_c03e_11ea_91c0_f4764ca0241drow13_col10 {\n",
       "            background-color:  #e8d6cc;\n",
       "            color:  #000000;\n",
       "        }    #T_6a03a2ee_c03e_11ea_91c0_f4764ca0241drow13_col11 {\n",
       "            background-color:  #445acc;\n",
       "            color:  #f1f1f1;\n",
       "        }    #T_6a03a2ee_c03e_11ea_91c0_f4764ca0241drow13_col12 {\n",
       "            background-color:  #4e68d8;\n",
       "            color:  #000000;\n",
       "        }    #T_6a03a2ee_c03e_11ea_91c0_f4764ca0241drow13_col13 {\n",
       "            background-color:  #b40426;\n",
       "            color:  #f1f1f1;\n",
       "        }</style><table id=\"T_6a03a2ee_c03e_11ea_91c0_f4764ca0241d\" ><thead>    <tr>        <th class=\"blank level0\" ></th>        <th class=\"col_heading level0 col0\" >age</th>        <th class=\"col_heading level0 col1\" >sex</th>        <th class=\"col_heading level0 col2\" >cp</th>        <th class=\"col_heading level0 col3\" >trestbps</th>        <th class=\"col_heading level0 col4\" >chol</th>        <th class=\"col_heading level0 col5\" >fbs</th>        <th class=\"col_heading level0 col6\" >restecg</th>        <th class=\"col_heading level0 col7\" >thalach</th>        <th class=\"col_heading level0 col8\" >exang</th>        <th class=\"col_heading level0 col9\" >oldpeak</th>        <th class=\"col_heading level0 col10\" >slope</th>        <th class=\"col_heading level0 col11\" >ca</th>        <th class=\"col_heading level0 col12\" >thal</th>        <th class=\"col_heading level0 col13\" >target</th>    </tr></thead><tbody>\n",
       "                <tr>\n",
       "                        <th id=\"T_6a03a2ee_c03e_11ea_91c0_f4764ca0241dlevel0_row0\" class=\"row_heading level0 row0\" >age</th>\n",
       "                        <td id=\"T_6a03a2ee_c03e_11ea_91c0_f4764ca0241drow0_col0\" class=\"data row0 col0\" >1.0</td>\n",
       "                        <td id=\"T_6a03a2ee_c03e_11ea_91c0_f4764ca0241drow0_col1\" class=\"data row0 col1\" >-0.098</td>\n",
       "                        <td id=\"T_6a03a2ee_c03e_11ea_91c0_f4764ca0241drow0_col2\" class=\"data row0 col2\" >-0.069</td>\n",
       "                        <td id=\"T_6a03a2ee_c03e_11ea_91c0_f4764ca0241drow0_col3\" class=\"data row0 col3\" >0.27</td>\n",
       "                        <td id=\"T_6a03a2ee_c03e_11ea_91c0_f4764ca0241drow0_col4\" class=\"data row0 col4\" >0.18</td>\n",
       "                        <td id=\"T_6a03a2ee_c03e_11ea_91c0_f4764ca0241drow0_col5\" class=\"data row0 col5\" >0.12</td>\n",
       "                        <td id=\"T_6a03a2ee_c03e_11ea_91c0_f4764ca0241drow0_col6\" class=\"data row0 col6\" >-0.12</td>\n",
       "                        <td id=\"T_6a03a2ee_c03e_11ea_91c0_f4764ca0241drow0_col7\" class=\"data row0 col7\" >-0.39</td>\n",
       "                        <td id=\"T_6a03a2ee_c03e_11ea_91c0_f4764ca0241drow0_col8\" class=\"data row0 col8\" >0.097</td>\n",
       "                        <td id=\"T_6a03a2ee_c03e_11ea_91c0_f4764ca0241drow0_col9\" class=\"data row0 col9\" >0.21</td>\n",
       "                        <td id=\"T_6a03a2ee_c03e_11ea_91c0_f4764ca0241drow0_col10\" class=\"data row0 col10\" >-0.17</td>\n",
       "                        <td id=\"T_6a03a2ee_c03e_11ea_91c0_f4764ca0241drow0_col11\" class=\"data row0 col11\" >0.28</td>\n",
       "                        <td id=\"T_6a03a2ee_c03e_11ea_91c0_f4764ca0241drow0_col12\" class=\"data row0 col12\" >0.068</td>\n",
       "                        <td id=\"T_6a03a2ee_c03e_11ea_91c0_f4764ca0241drow0_col13\" class=\"data row0 col13\" >-0.23</td>\n",
       "            </tr>\n",
       "            <tr>\n",
       "                        <th id=\"T_6a03a2ee_c03e_11ea_91c0_f4764ca0241dlevel0_row1\" class=\"row_heading level0 row1\" >sex</th>\n",
       "                        <td id=\"T_6a03a2ee_c03e_11ea_91c0_f4764ca0241drow1_col0\" class=\"data row1 col0\" >-0.098</td>\n",
       "                        <td id=\"T_6a03a2ee_c03e_11ea_91c0_f4764ca0241drow1_col1\" class=\"data row1 col1\" >1.0</td>\n",
       "                        <td id=\"T_6a03a2ee_c03e_11ea_91c0_f4764ca0241drow1_col2\" class=\"data row1 col2\" >-0.049</td>\n",
       "                        <td id=\"T_6a03a2ee_c03e_11ea_91c0_f4764ca0241drow1_col3\" class=\"data row1 col3\" >-0.012</td>\n",
       "                        <td id=\"T_6a03a2ee_c03e_11ea_91c0_f4764ca0241drow1_col4\" class=\"data row1 col4\" >-0.12</td>\n",
       "                        <td id=\"T_6a03a2ee_c03e_11ea_91c0_f4764ca0241drow1_col5\" class=\"data row1 col5\" >0.045</td>\n",
       "                        <td id=\"T_6a03a2ee_c03e_11ea_91c0_f4764ca0241drow1_col6\" class=\"data row1 col6\" >-0.058</td>\n",
       "                        <td id=\"T_6a03a2ee_c03e_11ea_91c0_f4764ca0241drow1_col7\" class=\"data row1 col7\" >-0.037</td>\n",
       "                        <td id=\"T_6a03a2ee_c03e_11ea_91c0_f4764ca0241drow1_col8\" class=\"data row1 col8\" >0.14</td>\n",
       "                        <td id=\"T_6a03a2ee_c03e_11ea_91c0_f4764ca0241drow1_col9\" class=\"data row1 col9\" >0.1</td>\n",
       "                        <td id=\"T_6a03a2ee_c03e_11ea_91c0_f4764ca0241drow1_col10\" class=\"data row1 col10\" >-0.031</td>\n",
       "                        <td id=\"T_6a03a2ee_c03e_11ea_91c0_f4764ca0241drow1_col11\" class=\"data row1 col11\" >0.12</td>\n",
       "                        <td id=\"T_6a03a2ee_c03e_11ea_91c0_f4764ca0241drow1_col12\" class=\"data row1 col12\" >0.21</td>\n",
       "                        <td id=\"T_6a03a2ee_c03e_11ea_91c0_f4764ca0241drow1_col13\" class=\"data row1 col13\" >-0.28</td>\n",
       "            </tr>\n",
       "            <tr>\n",
       "                        <th id=\"T_6a03a2ee_c03e_11ea_91c0_f4764ca0241dlevel0_row2\" class=\"row_heading level0 row2\" >cp</th>\n",
       "                        <td id=\"T_6a03a2ee_c03e_11ea_91c0_f4764ca0241drow2_col0\" class=\"data row2 col0\" >-0.069</td>\n",
       "                        <td id=\"T_6a03a2ee_c03e_11ea_91c0_f4764ca0241drow2_col1\" class=\"data row2 col1\" >-0.049</td>\n",
       "                        <td id=\"T_6a03a2ee_c03e_11ea_91c0_f4764ca0241drow2_col2\" class=\"data row2 col2\" >1.0</td>\n",
       "                        <td id=\"T_6a03a2ee_c03e_11ea_91c0_f4764ca0241drow2_col3\" class=\"data row2 col3\" >0.068</td>\n",
       "                        <td id=\"T_6a03a2ee_c03e_11ea_91c0_f4764ca0241drow2_col4\" class=\"data row2 col4\" >-0.092</td>\n",
       "                        <td id=\"T_6a03a2ee_c03e_11ea_91c0_f4764ca0241drow2_col5\" class=\"data row2 col5\" >0.094</td>\n",
       "                        <td id=\"T_6a03a2ee_c03e_11ea_91c0_f4764ca0241drow2_col6\" class=\"data row2 col6\" >0.044</td>\n",
       "                        <td id=\"T_6a03a2ee_c03e_11ea_91c0_f4764ca0241drow2_col7\" class=\"data row2 col7\" >0.29</td>\n",
       "                        <td id=\"T_6a03a2ee_c03e_11ea_91c0_f4764ca0241drow2_col8\" class=\"data row2 col8\" >-0.39</td>\n",
       "                        <td id=\"T_6a03a2ee_c03e_11ea_91c0_f4764ca0241drow2_col9\" class=\"data row2 col9\" >-0.14</td>\n",
       "                        <td id=\"T_6a03a2ee_c03e_11ea_91c0_f4764ca0241drow2_col10\" class=\"data row2 col10\" >0.12</td>\n",
       "                        <td id=\"T_6a03a2ee_c03e_11ea_91c0_f4764ca0241drow2_col11\" class=\"data row2 col11\" >-0.18</td>\n",
       "                        <td id=\"T_6a03a2ee_c03e_11ea_91c0_f4764ca0241drow2_col12\" class=\"data row2 col12\" >-0.16</td>\n",
       "                        <td id=\"T_6a03a2ee_c03e_11ea_91c0_f4764ca0241drow2_col13\" class=\"data row2 col13\" >0.43</td>\n",
       "            </tr>\n",
       "            <tr>\n",
       "                        <th id=\"T_6a03a2ee_c03e_11ea_91c0_f4764ca0241dlevel0_row3\" class=\"row_heading level0 row3\" >trestbps</th>\n",
       "                        <td id=\"T_6a03a2ee_c03e_11ea_91c0_f4764ca0241drow3_col0\" class=\"data row3 col0\" >0.27</td>\n",
       "                        <td id=\"T_6a03a2ee_c03e_11ea_91c0_f4764ca0241drow3_col1\" class=\"data row3 col1\" >-0.012</td>\n",
       "                        <td id=\"T_6a03a2ee_c03e_11ea_91c0_f4764ca0241drow3_col2\" class=\"data row3 col2\" >0.068</td>\n",
       "                        <td id=\"T_6a03a2ee_c03e_11ea_91c0_f4764ca0241drow3_col3\" class=\"data row3 col3\" >1.0</td>\n",
       "                        <td id=\"T_6a03a2ee_c03e_11ea_91c0_f4764ca0241drow3_col4\" class=\"data row3 col4\" >0.09</td>\n",
       "                        <td id=\"T_6a03a2ee_c03e_11ea_91c0_f4764ca0241drow3_col5\" class=\"data row3 col5\" >0.12</td>\n",
       "                        <td id=\"T_6a03a2ee_c03e_11ea_91c0_f4764ca0241drow3_col6\" class=\"data row3 col6\" >-0.15</td>\n",
       "                        <td id=\"T_6a03a2ee_c03e_11ea_91c0_f4764ca0241drow3_col7\" class=\"data row3 col7\" >-0.073</td>\n",
       "                        <td id=\"T_6a03a2ee_c03e_11ea_91c0_f4764ca0241drow3_col8\" class=\"data row3 col8\" >0.0037</td>\n",
       "                        <td id=\"T_6a03a2ee_c03e_11ea_91c0_f4764ca0241drow3_col9\" class=\"data row3 col9\" >0.15</td>\n",
       "                        <td id=\"T_6a03a2ee_c03e_11ea_91c0_f4764ca0241drow3_col10\" class=\"data row3 col10\" >-0.088</td>\n",
       "                        <td id=\"T_6a03a2ee_c03e_11ea_91c0_f4764ca0241drow3_col11\" class=\"data row3 col11\" >0.13</td>\n",
       "                        <td id=\"T_6a03a2ee_c03e_11ea_91c0_f4764ca0241drow3_col12\" class=\"data row3 col12\" >0.0097</td>\n",
       "                        <td id=\"T_6a03a2ee_c03e_11ea_91c0_f4764ca0241drow3_col13\" class=\"data row3 col13\" >-0.12</td>\n",
       "            </tr>\n",
       "            <tr>\n",
       "                        <th id=\"T_6a03a2ee_c03e_11ea_91c0_f4764ca0241dlevel0_row4\" class=\"row_heading level0 row4\" >chol</th>\n",
       "                        <td id=\"T_6a03a2ee_c03e_11ea_91c0_f4764ca0241drow4_col0\" class=\"data row4 col0\" >0.18</td>\n",
       "                        <td id=\"T_6a03a2ee_c03e_11ea_91c0_f4764ca0241drow4_col1\" class=\"data row4 col1\" >-0.12</td>\n",
       "                        <td id=\"T_6a03a2ee_c03e_11ea_91c0_f4764ca0241drow4_col2\" class=\"data row4 col2\" >-0.092</td>\n",
       "                        <td id=\"T_6a03a2ee_c03e_11ea_91c0_f4764ca0241drow4_col3\" class=\"data row4 col3\" >0.09</td>\n",
       "                        <td id=\"T_6a03a2ee_c03e_11ea_91c0_f4764ca0241drow4_col4\" class=\"data row4 col4\" >1.0</td>\n",
       "                        <td id=\"T_6a03a2ee_c03e_11ea_91c0_f4764ca0241drow4_col5\" class=\"data row4 col5\" >0.0092</td>\n",
       "                        <td id=\"T_6a03a2ee_c03e_11ea_91c0_f4764ca0241drow4_col6\" class=\"data row4 col6\" >-0.1</td>\n",
       "                        <td id=\"T_6a03a2ee_c03e_11ea_91c0_f4764ca0241drow4_col7\" class=\"data row4 col7\" >-0.035</td>\n",
       "                        <td id=\"T_6a03a2ee_c03e_11ea_91c0_f4764ca0241drow4_col8\" class=\"data row4 col8\" >0.1</td>\n",
       "                        <td id=\"T_6a03a2ee_c03e_11ea_91c0_f4764ca0241drow4_col9\" class=\"data row4 col9\" >0.013</td>\n",
       "                        <td id=\"T_6a03a2ee_c03e_11ea_91c0_f4764ca0241drow4_col10\" class=\"data row4 col10\" >0.022</td>\n",
       "                        <td id=\"T_6a03a2ee_c03e_11ea_91c0_f4764ca0241drow4_col11\" class=\"data row4 col11\" >0.06</td>\n",
       "                        <td id=\"T_6a03a2ee_c03e_11ea_91c0_f4764ca0241drow4_col12\" class=\"data row4 col12\" >0.072</td>\n",
       "                        <td id=\"T_6a03a2ee_c03e_11ea_91c0_f4764ca0241drow4_col13\" class=\"data row4 col13\" >-0.12</td>\n",
       "            </tr>\n",
       "            <tr>\n",
       "                        <th id=\"T_6a03a2ee_c03e_11ea_91c0_f4764ca0241dlevel0_row5\" class=\"row_heading level0 row5\" >fbs</th>\n",
       "                        <td id=\"T_6a03a2ee_c03e_11ea_91c0_f4764ca0241drow5_col0\" class=\"data row5 col0\" >0.12</td>\n",
       "                        <td id=\"T_6a03a2ee_c03e_11ea_91c0_f4764ca0241drow5_col1\" class=\"data row5 col1\" >0.045</td>\n",
       "                        <td id=\"T_6a03a2ee_c03e_11ea_91c0_f4764ca0241drow5_col2\" class=\"data row5 col2\" >0.094</td>\n",
       "                        <td id=\"T_6a03a2ee_c03e_11ea_91c0_f4764ca0241drow5_col3\" class=\"data row5 col3\" >0.12</td>\n",
       "                        <td id=\"T_6a03a2ee_c03e_11ea_91c0_f4764ca0241drow5_col4\" class=\"data row5 col4\" >0.0092</td>\n",
       "                        <td id=\"T_6a03a2ee_c03e_11ea_91c0_f4764ca0241drow5_col5\" class=\"data row5 col5\" >1.0</td>\n",
       "                        <td id=\"T_6a03a2ee_c03e_11ea_91c0_f4764ca0241drow5_col6\" class=\"data row5 col6\" >-0.084</td>\n",
       "                        <td id=\"T_6a03a2ee_c03e_11ea_91c0_f4764ca0241drow5_col7\" class=\"data row5 col7\" >-0.014</td>\n",
       "                        <td id=\"T_6a03a2ee_c03e_11ea_91c0_f4764ca0241drow5_col8\" class=\"data row5 col8\" >0.026</td>\n",
       "                        <td id=\"T_6a03a2ee_c03e_11ea_91c0_f4764ca0241drow5_col9\" class=\"data row5 col9\" >0.033</td>\n",
       "                        <td id=\"T_6a03a2ee_c03e_11ea_91c0_f4764ca0241drow5_col10\" class=\"data row5 col10\" >-0.06</td>\n",
       "                        <td id=\"T_6a03a2ee_c03e_11ea_91c0_f4764ca0241drow5_col11\" class=\"data row5 col11\" >0.14</td>\n",
       "                        <td id=\"T_6a03a2ee_c03e_11ea_91c0_f4764ca0241drow5_col12\" class=\"data row5 col12\" >-0.032</td>\n",
       "                        <td id=\"T_6a03a2ee_c03e_11ea_91c0_f4764ca0241drow5_col13\" class=\"data row5 col13\" >-0.028</td>\n",
       "            </tr>\n",
       "            <tr>\n",
       "                        <th id=\"T_6a03a2ee_c03e_11ea_91c0_f4764ca0241dlevel0_row6\" class=\"row_heading level0 row6\" >restecg</th>\n",
       "                        <td id=\"T_6a03a2ee_c03e_11ea_91c0_f4764ca0241drow6_col0\" class=\"data row6 col0\" >-0.12</td>\n",
       "                        <td id=\"T_6a03a2ee_c03e_11ea_91c0_f4764ca0241drow6_col1\" class=\"data row6 col1\" >-0.058</td>\n",
       "                        <td id=\"T_6a03a2ee_c03e_11ea_91c0_f4764ca0241drow6_col2\" class=\"data row6 col2\" >0.044</td>\n",
       "                        <td id=\"T_6a03a2ee_c03e_11ea_91c0_f4764ca0241drow6_col3\" class=\"data row6 col3\" >-0.15</td>\n",
       "                        <td id=\"T_6a03a2ee_c03e_11ea_91c0_f4764ca0241drow6_col4\" class=\"data row6 col4\" >-0.1</td>\n",
       "                        <td id=\"T_6a03a2ee_c03e_11ea_91c0_f4764ca0241drow6_col5\" class=\"data row6 col5\" >-0.084</td>\n",
       "                        <td id=\"T_6a03a2ee_c03e_11ea_91c0_f4764ca0241drow6_col6\" class=\"data row6 col6\" >1.0</td>\n",
       "                        <td id=\"T_6a03a2ee_c03e_11ea_91c0_f4764ca0241drow6_col7\" class=\"data row6 col7\" >0.056</td>\n",
       "                        <td id=\"T_6a03a2ee_c03e_11ea_91c0_f4764ca0241drow6_col8\" class=\"data row6 col8\" >-0.071</td>\n",
       "                        <td id=\"T_6a03a2ee_c03e_11ea_91c0_f4764ca0241drow6_col9\" class=\"data row6 col9\" >-0.091</td>\n",
       "                        <td id=\"T_6a03a2ee_c03e_11ea_91c0_f4764ca0241drow6_col10\" class=\"data row6 col10\" >0.093</td>\n",
       "                        <td id=\"T_6a03a2ee_c03e_11ea_91c0_f4764ca0241drow6_col11\" class=\"data row6 col11\" >-0.072</td>\n",
       "                        <td id=\"T_6a03a2ee_c03e_11ea_91c0_f4764ca0241drow6_col12\" class=\"data row6 col12\" >-0.012</td>\n",
       "                        <td id=\"T_6a03a2ee_c03e_11ea_91c0_f4764ca0241drow6_col13\" class=\"data row6 col13\" >0.14</td>\n",
       "            </tr>\n",
       "            <tr>\n",
       "                        <th id=\"T_6a03a2ee_c03e_11ea_91c0_f4764ca0241dlevel0_row7\" class=\"row_heading level0 row7\" >thalach</th>\n",
       "                        <td id=\"T_6a03a2ee_c03e_11ea_91c0_f4764ca0241drow7_col0\" class=\"data row7 col0\" >-0.39</td>\n",
       "                        <td id=\"T_6a03a2ee_c03e_11ea_91c0_f4764ca0241drow7_col1\" class=\"data row7 col1\" >-0.037</td>\n",
       "                        <td id=\"T_6a03a2ee_c03e_11ea_91c0_f4764ca0241drow7_col2\" class=\"data row7 col2\" >0.29</td>\n",
       "                        <td id=\"T_6a03a2ee_c03e_11ea_91c0_f4764ca0241drow7_col3\" class=\"data row7 col3\" >-0.073</td>\n",
       "                        <td id=\"T_6a03a2ee_c03e_11ea_91c0_f4764ca0241drow7_col4\" class=\"data row7 col4\" >-0.035</td>\n",
       "                        <td id=\"T_6a03a2ee_c03e_11ea_91c0_f4764ca0241drow7_col5\" class=\"data row7 col5\" >-0.014</td>\n",
       "                        <td id=\"T_6a03a2ee_c03e_11ea_91c0_f4764ca0241drow7_col6\" class=\"data row7 col6\" >0.056</td>\n",
       "                        <td id=\"T_6a03a2ee_c03e_11ea_91c0_f4764ca0241drow7_col7\" class=\"data row7 col7\" >1.0</td>\n",
       "                        <td id=\"T_6a03a2ee_c03e_11ea_91c0_f4764ca0241drow7_col8\" class=\"data row7 col8\" >-0.39</td>\n",
       "                        <td id=\"T_6a03a2ee_c03e_11ea_91c0_f4764ca0241drow7_col9\" class=\"data row7 col9\" >-0.34</td>\n",
       "                        <td id=\"T_6a03a2ee_c03e_11ea_91c0_f4764ca0241drow7_col10\" class=\"data row7 col10\" >0.39</td>\n",
       "                        <td id=\"T_6a03a2ee_c03e_11ea_91c0_f4764ca0241drow7_col11\" class=\"data row7 col11\" >-0.23</td>\n",
       "                        <td id=\"T_6a03a2ee_c03e_11ea_91c0_f4764ca0241drow7_col12\" class=\"data row7 col12\" >-0.1</td>\n",
       "                        <td id=\"T_6a03a2ee_c03e_11ea_91c0_f4764ca0241drow7_col13\" class=\"data row7 col13\" >0.42</td>\n",
       "            </tr>\n",
       "            <tr>\n",
       "                        <th id=\"T_6a03a2ee_c03e_11ea_91c0_f4764ca0241dlevel0_row8\" class=\"row_heading level0 row8\" >exang</th>\n",
       "                        <td id=\"T_6a03a2ee_c03e_11ea_91c0_f4764ca0241drow8_col0\" class=\"data row8 col0\" >0.097</td>\n",
       "                        <td id=\"T_6a03a2ee_c03e_11ea_91c0_f4764ca0241drow8_col1\" class=\"data row8 col1\" >0.14</td>\n",
       "                        <td id=\"T_6a03a2ee_c03e_11ea_91c0_f4764ca0241drow8_col2\" class=\"data row8 col2\" >-0.39</td>\n",
       "                        <td id=\"T_6a03a2ee_c03e_11ea_91c0_f4764ca0241drow8_col3\" class=\"data row8 col3\" >0.0037</td>\n",
       "                        <td id=\"T_6a03a2ee_c03e_11ea_91c0_f4764ca0241drow8_col4\" class=\"data row8 col4\" >0.1</td>\n",
       "                        <td id=\"T_6a03a2ee_c03e_11ea_91c0_f4764ca0241drow8_col5\" class=\"data row8 col5\" >0.026</td>\n",
       "                        <td id=\"T_6a03a2ee_c03e_11ea_91c0_f4764ca0241drow8_col6\" class=\"data row8 col6\" >-0.071</td>\n",
       "                        <td id=\"T_6a03a2ee_c03e_11ea_91c0_f4764ca0241drow8_col7\" class=\"data row8 col7\" >-0.39</td>\n",
       "                        <td id=\"T_6a03a2ee_c03e_11ea_91c0_f4764ca0241drow8_col8\" class=\"data row8 col8\" >1.0</td>\n",
       "                        <td id=\"T_6a03a2ee_c03e_11ea_91c0_f4764ca0241drow8_col9\" class=\"data row8 col9\" >0.31</td>\n",
       "                        <td id=\"T_6a03a2ee_c03e_11ea_91c0_f4764ca0241drow8_col10\" class=\"data row8 col10\" >-0.26</td>\n",
       "                        <td id=\"T_6a03a2ee_c03e_11ea_91c0_f4764ca0241drow8_col11\" class=\"data row8 col11\" >0.12</td>\n",
       "                        <td id=\"T_6a03a2ee_c03e_11ea_91c0_f4764ca0241drow8_col12\" class=\"data row8 col12\" >0.21</td>\n",
       "                        <td id=\"T_6a03a2ee_c03e_11ea_91c0_f4764ca0241drow8_col13\" class=\"data row8 col13\" >-0.44</td>\n",
       "            </tr>\n",
       "            <tr>\n",
       "                        <th id=\"T_6a03a2ee_c03e_11ea_91c0_f4764ca0241dlevel0_row9\" class=\"row_heading level0 row9\" >oldpeak</th>\n",
       "                        <td id=\"T_6a03a2ee_c03e_11ea_91c0_f4764ca0241drow9_col0\" class=\"data row9 col0\" >0.21</td>\n",
       "                        <td id=\"T_6a03a2ee_c03e_11ea_91c0_f4764ca0241drow9_col1\" class=\"data row9 col1\" >0.1</td>\n",
       "                        <td id=\"T_6a03a2ee_c03e_11ea_91c0_f4764ca0241drow9_col2\" class=\"data row9 col2\" >-0.14</td>\n",
       "                        <td id=\"T_6a03a2ee_c03e_11ea_91c0_f4764ca0241drow9_col3\" class=\"data row9 col3\" >0.15</td>\n",
       "                        <td id=\"T_6a03a2ee_c03e_11ea_91c0_f4764ca0241drow9_col4\" class=\"data row9 col4\" >0.013</td>\n",
       "                        <td id=\"T_6a03a2ee_c03e_11ea_91c0_f4764ca0241drow9_col5\" class=\"data row9 col5\" >0.033</td>\n",
       "                        <td id=\"T_6a03a2ee_c03e_11ea_91c0_f4764ca0241drow9_col6\" class=\"data row9 col6\" >-0.091</td>\n",
       "                        <td id=\"T_6a03a2ee_c03e_11ea_91c0_f4764ca0241drow9_col7\" class=\"data row9 col7\" >-0.34</td>\n",
       "                        <td id=\"T_6a03a2ee_c03e_11ea_91c0_f4764ca0241drow9_col8\" class=\"data row9 col8\" >0.31</td>\n",
       "                        <td id=\"T_6a03a2ee_c03e_11ea_91c0_f4764ca0241drow9_col9\" class=\"data row9 col9\" >1.0</td>\n",
       "                        <td id=\"T_6a03a2ee_c03e_11ea_91c0_f4764ca0241drow9_col10\" class=\"data row9 col10\" >-0.52</td>\n",
       "                        <td id=\"T_6a03a2ee_c03e_11ea_91c0_f4764ca0241drow9_col11\" class=\"data row9 col11\" >0.18</td>\n",
       "                        <td id=\"T_6a03a2ee_c03e_11ea_91c0_f4764ca0241drow9_col12\" class=\"data row9 col12\" >0.2</td>\n",
       "                        <td id=\"T_6a03a2ee_c03e_11ea_91c0_f4764ca0241drow9_col13\" class=\"data row9 col13\" >-0.43</td>\n",
       "            </tr>\n",
       "            <tr>\n",
       "                        <th id=\"T_6a03a2ee_c03e_11ea_91c0_f4764ca0241dlevel0_row10\" class=\"row_heading level0 row10\" >slope</th>\n",
       "                        <td id=\"T_6a03a2ee_c03e_11ea_91c0_f4764ca0241drow10_col0\" class=\"data row10 col0\" >-0.17</td>\n",
       "                        <td id=\"T_6a03a2ee_c03e_11ea_91c0_f4764ca0241drow10_col1\" class=\"data row10 col1\" >-0.031</td>\n",
       "                        <td id=\"T_6a03a2ee_c03e_11ea_91c0_f4764ca0241drow10_col2\" class=\"data row10 col2\" >0.12</td>\n",
       "                        <td id=\"T_6a03a2ee_c03e_11ea_91c0_f4764ca0241drow10_col3\" class=\"data row10 col3\" >-0.088</td>\n",
       "                        <td id=\"T_6a03a2ee_c03e_11ea_91c0_f4764ca0241drow10_col4\" class=\"data row10 col4\" >0.022</td>\n",
       "                        <td id=\"T_6a03a2ee_c03e_11ea_91c0_f4764ca0241drow10_col5\" class=\"data row10 col5\" >-0.06</td>\n",
       "                        <td id=\"T_6a03a2ee_c03e_11ea_91c0_f4764ca0241drow10_col6\" class=\"data row10 col6\" >0.093</td>\n",
       "                        <td id=\"T_6a03a2ee_c03e_11ea_91c0_f4764ca0241drow10_col7\" class=\"data row10 col7\" >0.39</td>\n",
       "                        <td id=\"T_6a03a2ee_c03e_11ea_91c0_f4764ca0241drow10_col8\" class=\"data row10 col8\" >-0.26</td>\n",
       "                        <td id=\"T_6a03a2ee_c03e_11ea_91c0_f4764ca0241drow10_col9\" class=\"data row10 col9\" >-0.52</td>\n",
       "                        <td id=\"T_6a03a2ee_c03e_11ea_91c0_f4764ca0241drow10_col10\" class=\"data row10 col10\" >1.0</td>\n",
       "                        <td id=\"T_6a03a2ee_c03e_11ea_91c0_f4764ca0241drow10_col11\" class=\"data row10 col11\" >-0.08</td>\n",
       "                        <td id=\"T_6a03a2ee_c03e_11ea_91c0_f4764ca0241drow10_col12\" class=\"data row10 col12\" >-0.1</td>\n",
       "                        <td id=\"T_6a03a2ee_c03e_11ea_91c0_f4764ca0241drow10_col13\" class=\"data row10 col13\" >0.35</td>\n",
       "            </tr>\n",
       "            <tr>\n",
       "                        <th id=\"T_6a03a2ee_c03e_11ea_91c0_f4764ca0241dlevel0_row11\" class=\"row_heading level0 row11\" >ca</th>\n",
       "                        <td id=\"T_6a03a2ee_c03e_11ea_91c0_f4764ca0241drow11_col0\" class=\"data row11 col0\" >0.28</td>\n",
       "                        <td id=\"T_6a03a2ee_c03e_11ea_91c0_f4764ca0241drow11_col1\" class=\"data row11 col1\" >0.12</td>\n",
       "                        <td id=\"T_6a03a2ee_c03e_11ea_91c0_f4764ca0241drow11_col2\" class=\"data row11 col2\" >-0.18</td>\n",
       "                        <td id=\"T_6a03a2ee_c03e_11ea_91c0_f4764ca0241drow11_col3\" class=\"data row11 col3\" >0.13</td>\n",
       "                        <td id=\"T_6a03a2ee_c03e_11ea_91c0_f4764ca0241drow11_col4\" class=\"data row11 col4\" >0.06</td>\n",
       "                        <td id=\"T_6a03a2ee_c03e_11ea_91c0_f4764ca0241drow11_col5\" class=\"data row11 col5\" >0.14</td>\n",
       "                        <td id=\"T_6a03a2ee_c03e_11ea_91c0_f4764ca0241drow11_col6\" class=\"data row11 col6\" >-0.072</td>\n",
       "                        <td id=\"T_6a03a2ee_c03e_11ea_91c0_f4764ca0241drow11_col7\" class=\"data row11 col7\" >-0.23</td>\n",
       "                        <td id=\"T_6a03a2ee_c03e_11ea_91c0_f4764ca0241drow11_col8\" class=\"data row11 col8\" >0.12</td>\n",
       "                        <td id=\"T_6a03a2ee_c03e_11ea_91c0_f4764ca0241drow11_col9\" class=\"data row11 col9\" >0.18</td>\n",
       "                        <td id=\"T_6a03a2ee_c03e_11ea_91c0_f4764ca0241drow11_col10\" class=\"data row11 col10\" >-0.08</td>\n",
       "                        <td id=\"T_6a03a2ee_c03e_11ea_91c0_f4764ca0241drow11_col11\" class=\"data row11 col11\" >1.0</td>\n",
       "                        <td id=\"T_6a03a2ee_c03e_11ea_91c0_f4764ca0241drow11_col12\" class=\"data row11 col12\" >0.15</td>\n",
       "                        <td id=\"T_6a03a2ee_c03e_11ea_91c0_f4764ca0241drow11_col13\" class=\"data row11 col13\" >-0.39</td>\n",
       "            </tr>\n",
       "            <tr>\n",
       "                        <th id=\"T_6a03a2ee_c03e_11ea_91c0_f4764ca0241dlevel0_row12\" class=\"row_heading level0 row12\" >thal</th>\n",
       "                        <td id=\"T_6a03a2ee_c03e_11ea_91c0_f4764ca0241drow12_col0\" class=\"data row12 col0\" >0.068</td>\n",
       "                        <td id=\"T_6a03a2ee_c03e_11ea_91c0_f4764ca0241drow12_col1\" class=\"data row12 col1\" >0.21</td>\n",
       "                        <td id=\"T_6a03a2ee_c03e_11ea_91c0_f4764ca0241drow12_col2\" class=\"data row12 col2\" >-0.16</td>\n",
       "                        <td id=\"T_6a03a2ee_c03e_11ea_91c0_f4764ca0241drow12_col3\" class=\"data row12 col3\" >0.0097</td>\n",
       "                        <td id=\"T_6a03a2ee_c03e_11ea_91c0_f4764ca0241drow12_col4\" class=\"data row12 col4\" >0.072</td>\n",
       "                        <td id=\"T_6a03a2ee_c03e_11ea_91c0_f4764ca0241drow12_col5\" class=\"data row12 col5\" >-0.032</td>\n",
       "                        <td id=\"T_6a03a2ee_c03e_11ea_91c0_f4764ca0241drow12_col6\" class=\"data row12 col6\" >-0.012</td>\n",
       "                        <td id=\"T_6a03a2ee_c03e_11ea_91c0_f4764ca0241drow12_col7\" class=\"data row12 col7\" >-0.1</td>\n",
       "                        <td id=\"T_6a03a2ee_c03e_11ea_91c0_f4764ca0241drow12_col8\" class=\"data row12 col8\" >0.21</td>\n",
       "                        <td id=\"T_6a03a2ee_c03e_11ea_91c0_f4764ca0241drow12_col9\" class=\"data row12 col9\" >0.2</td>\n",
       "                        <td id=\"T_6a03a2ee_c03e_11ea_91c0_f4764ca0241drow12_col10\" class=\"data row12 col10\" >-0.1</td>\n",
       "                        <td id=\"T_6a03a2ee_c03e_11ea_91c0_f4764ca0241drow12_col11\" class=\"data row12 col11\" >0.15</td>\n",
       "                        <td id=\"T_6a03a2ee_c03e_11ea_91c0_f4764ca0241drow12_col12\" class=\"data row12 col12\" >1.0</td>\n",
       "                        <td id=\"T_6a03a2ee_c03e_11ea_91c0_f4764ca0241drow12_col13\" class=\"data row12 col13\" >-0.34</td>\n",
       "            </tr>\n",
       "            <tr>\n",
       "                        <th id=\"T_6a03a2ee_c03e_11ea_91c0_f4764ca0241dlevel0_row13\" class=\"row_heading level0 row13\" >target</th>\n",
       "                        <td id=\"T_6a03a2ee_c03e_11ea_91c0_f4764ca0241drow13_col0\" class=\"data row13 col0\" >-0.23</td>\n",
       "                        <td id=\"T_6a03a2ee_c03e_11ea_91c0_f4764ca0241drow13_col1\" class=\"data row13 col1\" >-0.28</td>\n",
       "                        <td id=\"T_6a03a2ee_c03e_11ea_91c0_f4764ca0241drow13_col2\" class=\"data row13 col2\" >0.43</td>\n",
       "                        <td id=\"T_6a03a2ee_c03e_11ea_91c0_f4764ca0241drow13_col3\" class=\"data row13 col3\" >-0.12</td>\n",
       "                        <td id=\"T_6a03a2ee_c03e_11ea_91c0_f4764ca0241drow13_col4\" class=\"data row13 col4\" >-0.12</td>\n",
       "                        <td id=\"T_6a03a2ee_c03e_11ea_91c0_f4764ca0241drow13_col5\" class=\"data row13 col5\" >-0.028</td>\n",
       "                        <td id=\"T_6a03a2ee_c03e_11ea_91c0_f4764ca0241drow13_col6\" class=\"data row13 col6\" >0.14</td>\n",
       "                        <td id=\"T_6a03a2ee_c03e_11ea_91c0_f4764ca0241drow13_col7\" class=\"data row13 col7\" >0.42</td>\n",
       "                        <td id=\"T_6a03a2ee_c03e_11ea_91c0_f4764ca0241drow13_col8\" class=\"data row13 col8\" >-0.44</td>\n",
       "                        <td id=\"T_6a03a2ee_c03e_11ea_91c0_f4764ca0241drow13_col9\" class=\"data row13 col9\" >-0.43</td>\n",
       "                        <td id=\"T_6a03a2ee_c03e_11ea_91c0_f4764ca0241drow13_col10\" class=\"data row13 col10\" >0.35</td>\n",
       "                        <td id=\"T_6a03a2ee_c03e_11ea_91c0_f4764ca0241drow13_col11\" class=\"data row13 col11\" >-0.39</td>\n",
       "                        <td id=\"T_6a03a2ee_c03e_11ea_91c0_f4764ca0241drow13_col12\" class=\"data row13 col12\" >-0.34</td>\n",
       "                        <td id=\"T_6a03a2ee_c03e_11ea_91c0_f4764ca0241drow13_col13\" class=\"data row13 col13\" >1.0</td>\n",
       "            </tr>\n",
       "    </tbody></table>"
      ],
      "text/plain": [
       "<pandas.io.formats.style.Styler at 0x1448e030>"
      ]
     },
     "execution_count": 99,
     "metadata": {},
     "output_type": "execute_result"
    }
   ],
   "source": [
    "df.corr(method='pearson').style.format(\"{:.2}\").background_gradient(cmap=plt.get_cmap('coolwarm'),axis=1)"
   ]
  },
  {
   "cell_type": "code",
   "execution_count": 101,
   "metadata": {},
   "outputs": [],
   "source": [
    "from sklearn.model_selection import train_test_split\n",
    "X=df_final.drop(['target'],axis=1)\n",
    "Y=df_final['target']\n",
    "X_train,X_test,Y_train,Y_test=train_test_split(X,Y,test_size=0.50,random_state=101)"
   ]
  },
  {
   "cell_type": "code",
   "execution_count": 102,
   "metadata": {},
   "outputs": [
    {
     "data": {
      "text/plain": [
       "DecisionTreeClassifier(class_weight=None, criterion='gini', max_depth=None,\n",
       "            max_features=None, max_leaf_nodes=None,\n",
       "            min_impurity_decrease=0.0, min_impurity_split=None,\n",
       "            min_samples_leaf=1, min_samples_split=2,\n",
       "            min_weight_fraction_leaf=0.0, presort=False, random_state=None,\n",
       "            splitter='best')"
      ]
     },
     "execution_count": 102,
     "metadata": {},
     "output_type": "execute_result"
    }
   ],
   "source": [
    "from sklearn.tree import DecisionTreeClassifier\n",
    "dtree=DecisionTreeClassifier()\n",
    "dtree.fit(X_train,Y_train)"
   ]
  },
  {
   "cell_type": "code",
   "execution_count": 103,
   "metadata": {},
   "outputs": [],
   "source": [
    "pred_DT=dtree.predict(X_test)"
   ]
  },
  {
   "cell_type": "code",
   "execution_count": 104,
   "metadata": {},
   "outputs": [],
   "source": [
    "from sklearn.metrics import accuracy_score"
   ]
  },
  {
   "cell_type": "code",
   "execution_count": 105,
   "metadata": {},
   "outputs": [
    {
     "data": {
      "text/plain": [
       "0.6907894736842105"
      ]
     },
     "execution_count": 105,
     "metadata": {},
     "output_type": "execute_result"
    }
   ],
   "source": [
    "accuracy_score(Y_test,pred_DT)"
   ]
  },
  {
   "cell_type": "code",
   "execution_count": 107,
   "metadata": {},
   "outputs": [
    {
     "name": "stderr",
     "output_type": "stream",
     "text": [
      "C:\\Users\\dear\\Anaconda2\\lib\\site-packages\\sklearn\\ensemble\\forest.py:246: FutureWarning: The default value of n_estimators will change from 10 in version 0.20 to 100 in 0.22.\n",
      "  \"10 in version 0.20 to 100 in 0.22.\", FutureWarning)\n"
     ]
    },
    {
     "data": {
      "text/plain": [
       "RandomForestClassifier(bootstrap=True, class_weight=None, criterion='gini',\n",
       "            max_depth=None, max_features='auto', max_leaf_nodes=None,\n",
       "            min_impurity_decrease=0.0, min_impurity_split=None,\n",
       "            min_samples_leaf=1, min_samples_split=2,\n",
       "            min_weight_fraction_leaf=0.0, n_estimators=10, n_jobs=None,\n",
       "            oob_score=False, random_state=None, verbose=0,\n",
       "            warm_start=False)"
      ]
     },
     "execution_count": 107,
     "metadata": {},
     "output_type": "execute_result"
    }
   ],
   "source": [
    "from sklearn.ensemble import RandomForestClassifier\n",
    "rfr=RandomForestClassifier()\n",
    "rfr.fit(X_train,Y_train)"
   ]
  },
  {
   "cell_type": "code",
   "execution_count": 108,
   "metadata": {},
   "outputs": [],
   "source": [
    "pred_rfr=rfr.predict(X_test)"
   ]
  },
  {
   "cell_type": "code",
   "execution_count": 109,
   "metadata": {},
   "outputs": [
    {
     "data": {
      "text/plain": [
       "0.7763157894736842"
      ]
     },
     "execution_count": 109,
     "metadata": {},
     "output_type": "execute_result"
    }
   ],
   "source": [
    "accuracy_score(Y_test,pred_rfr)"
   ]
  },
  {
   "cell_type": "code",
   "execution_count": 110,
   "metadata": {},
   "outputs": [],
   "source": [
    "from sklearn.metrics import confusion_matrix"
   ]
  },
  {
   "cell_type": "code",
   "execution_count": 111,
   "metadata": {},
   "outputs": [
    {
     "data": {
      "text/plain": [
       "array([[55, 16],\n",
       "       [18, 63]], dtype=int64)"
      ]
     },
     "execution_count": 111,
     "metadata": {},
     "output_type": "execute_result"
    }
   ],
   "source": [
    "confusion_matrix(Y_test,pred_rfr)"
   ]
  },
  {
   "cell_type": "code",
   "execution_count": 112,
   "metadata": {},
   "outputs": [
    {
     "data": {
      "text/plain": [
       "array([[49, 22],\n",
       "       [25, 56]], dtype=int64)"
      ]
     },
     "execution_count": 112,
     "metadata": {},
     "output_type": "execute_result"
    }
   ],
   "source": [
    "confusion_matrix(Y_test,pred_DT)"
   ]
  },
  {
   "cell_type": "code",
   "execution_count": 113,
   "metadata": {},
   "outputs": [],
   "source": [
    "from sklearn.metrics import confusion_matrix,classification_report"
   ]
  },
  {
   "cell_type": "code",
   "execution_count": 116,
   "metadata": {},
   "outputs": [
    {
     "name": "stdout",
     "output_type": "stream",
     "text": [
      "[[49 22]\n",
      " [25 56]]\n",
      "              precision    recall  f1-score   support\n",
      "\n",
      "           0       0.66      0.69      0.68        71\n",
      "           1       0.72      0.69      0.70        81\n",
      "\n",
      "   micro avg       0.69      0.69      0.69       152\n",
      "   macro avg       0.69      0.69      0.69       152\n",
      "weighted avg       0.69      0.69      0.69       152\n",
      "\n"
     ]
    }
   ],
   "source": [
    "print(confusion_matrix(Y_test,pred_DT))\n",
    "print(classification_report(Y_test,pred_DT))"
   ]
  },
  {
   "cell_type": "code",
   "execution_count": 117,
   "metadata": {},
   "outputs": [
    {
     "name": "stdout",
     "output_type": "stream",
     "text": [
      "[[55 16]\n",
      " [18 63]]\n",
      "              precision    recall  f1-score   support\n",
      "\n",
      "           0       0.75      0.77      0.76        71\n",
      "           1       0.80      0.78      0.79        81\n",
      "\n",
      "   micro avg       0.78      0.78      0.78       152\n",
      "   macro avg       0.78      0.78      0.78       152\n",
      "weighted avg       0.78      0.78      0.78       152\n",
      "\n"
     ]
    }
   ],
   "source": [
    "print(confusion_matrix(Y_test,pred_rfr))\n",
    "print(classification_report(Y_test,pred_rfr))"
   ]
  },
  {
   "cell_type": "code",
   "execution_count": null,
   "metadata": {},
   "outputs": [],
   "source": []
  }
 ],
 "metadata": {
  "kernelspec": {
   "display_name": "Python 2",
   "language": "python",
   "name": "python2"
  },
  "language_info": {
   "codemirror_mode": {
    "name": "ipython",
    "version": 2
   },
   "file_extension": ".py",
   "mimetype": "text/x-python",
   "name": "python",
   "nbconvert_exporter": "python",
   "pygments_lexer": "ipython2",
   "version": "2.7.16"
  }
 },
 "nbformat": 4,
 "nbformat_minor": 2
}
